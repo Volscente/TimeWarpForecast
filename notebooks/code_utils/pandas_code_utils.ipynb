{
 "cells": [
  {
   "metadata": {},
   "cell_type": "markdown",
   "source": [
    "# Pandas Code Utils\n",
    "\n",
    "The Notebooks include different code utils in Pandas for Time Series."
   ],
   "id": "a39a738e265d9080"
  },
  {
   "metadata": {
    "ExecuteTime": {
     "end_time": "2024-07-19T19:58:25.071167Z",
     "start_time": "2024-07-19T19:58:25.068286Z"
    }
   },
   "cell_type": "code",
   "source": [
    "# Import Standard Libraries\n",
    "import pandas as pd\n",
    "import numpy as np"
   ],
   "id": "192d26120c9227da",
   "outputs": [],
   "execution_count": 6
  },
  {
   "metadata": {},
   "cell_type": "markdown",
   "source": "# DateTimeIndex",
   "id": "b0b7341764f9d0a2"
  },
  {
   "metadata": {},
   "cell_type": "markdown",
   "source": [
    "## Date Range\n",
    "\n",
    "It creates a range of dates from the specified origin, across the given period with a certain frequency."
   ],
   "id": "76e8e90c25645dc3"
  },
  {
   "metadata": {
    "ExecuteTime": {
     "end_time": "2024-07-19T19:53:28.387115Z",
     "start_time": "2024-07-19T19:53:28.373059Z"
    }
   },
   "cell_type": "code",
   "source": [
    "# From 01/01/2020 to 07/01/2020 every day\n",
    "pd.date_range('2020-01-01', periods=7, freq='D')"
   ],
   "id": "f96dd3b68fe2a543",
   "outputs": [
    {
     "data": {
      "text/plain": [
       "DatetimeIndex(['2020-01-01', '2020-01-02', '2020-01-03', '2020-01-04',\n",
       "               '2020-01-05', '2020-01-06', '2020-01-07'],\n",
       "              dtype='datetime64[ns]', freq='D')"
      ]
     },
     "execution_count": 2,
     "metadata": {},
     "output_type": "execute_result"
    }
   ],
   "execution_count": 2
  },
  {
   "metadata": {},
   "cell_type": "markdown",
   "source": [
    "## To Datetime\n",
    "\n",
    "Transform the given values into `datetime` data type."
   ],
   "id": "82daa5c66c70fb3b"
  },
  {
   "metadata": {
    "ExecuteTime": {
     "end_time": "2024-07-19T19:55:39.755437Z",
     "start_time": "2024-07-19T19:55:39.743431Z"
    }
   },
   "cell_type": "code",
   "source": [
    "# Transform values into datetime\n",
    "pd.to_datetime(['01/02/2018', 'Jan 03, 2018'], format='mixed')"
   ],
   "id": "3fa3ed5bff38ffa5",
   "outputs": [
    {
     "data": {
      "text/plain": [
       "DatetimeIndex(['2018-01-02', '2018-01-03'], dtype='datetime64[ns]', freq=None)"
      ]
     },
     "execution_count": 5,
     "metadata": {},
     "output_type": "execute_result"
    }
   ],
   "execution_count": 5
  },
  {
   "metadata": {},
   "cell_type": "markdown",
   "source": [
    "## Pandas DataFrame with DateTimeIndex\n",
    "\n",
    "Create a Pandas DataFrame with a DateTimeIndex as index."
   ],
   "id": "195a21b61a25dc9b"
  },
  {
   "metadata": {
    "ExecuteTime": {
     "end_time": "2024-07-19T20:00:44.495257Z",
     "start_time": "2024-07-19T20:00:44.489904Z"
    }
   },
   "cell_type": "code",
   "source": [
    "# Create index\n",
    "index = pd.date_range('01/01/2024', periods=30, freq='D')\n",
    "\n",
    "# Create values\n",
    "values = np.random.randint(100, size=30)\n",
    "\n",
    "# Create dataframe\n",
    "dataframe = pd.DataFrame(values, index=index, columns=['Sales'])\n",
    "\n",
    "print(dataframe.head())"
   ],
   "id": "2d69ffeb0e4f110",
   "outputs": [
    {
     "name": "stdout",
     "output_type": "stream",
     "text": [
      "            Sales\n",
      "2024-01-01     85\n",
      "2024-01-02     65\n",
      "2024-01-03     74\n",
      "2024-01-04     61\n",
      "2024-01-05     81\n"
     ]
    }
   ],
   "execution_count": 15
  },
  {
   "metadata": {},
   "cell_type": "code",
   "outputs": [],
   "execution_count": null,
   "source": "",
   "id": "3c6a43857b5f389f"
  }
 ],
 "metadata": {
  "kernelspec": {
   "display_name": "timewarpforecast",
   "language": "python",
   "name": "timewarpforecast"
  },
  "language_info": {
   "codemirror_mode": {
    "name": "ipython",
    "version": 2
   },
   "file_extension": ".py",
   "mimetype": "text/x-python",
   "name": "python",
   "nbconvert_exporter": "python",
   "pygments_lexer": "ipython2",
   "version": "2.7.6"
  }
 },
 "nbformat": 4,
 "nbformat_minor": 5
}
