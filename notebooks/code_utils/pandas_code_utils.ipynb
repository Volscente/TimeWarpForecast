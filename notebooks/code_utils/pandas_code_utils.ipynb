{
 "cells": [
  {
   "metadata": {},
   "cell_type": "markdown",
   "source": [
    "# Pandas Code Utils\n",
    "\n",
    "The Notebooks include different code utils in Pandas for Time Series."
   ],
   "id": "a39a738e265d9080"
  },
  {
   "metadata": {
    "ExecuteTime": {
     "end_time": "2024-07-20T20:00:05.225374Z",
     "start_time": "2024-07-20T20:00:03.393904Z"
    }
   },
   "cell_type": "code",
   "source": [
    "# Import Standard Libraries\n",
    "import pandas as pd\n",
    "import numpy as np"
   ],
   "id": "192d26120c9227da",
   "outputs": [],
   "execution_count": 1
  },
  {
   "metadata": {},
   "cell_type": "markdown",
   "source": "# DateTimeIndex",
   "id": "b0b7341764f9d0a2"
  },
  {
   "metadata": {},
   "cell_type": "markdown",
   "source": [
    "## Date Range\n",
    "\n",
    "It creates a range of dates from the specified origin, across the given period with a certain frequency."
   ],
   "id": "76e8e90c25645dc3"
  },
  {
   "metadata": {
    "ExecuteTime": {
     "end_time": "2024-07-19T19:53:28.387115Z",
     "start_time": "2024-07-19T19:53:28.373059Z"
    }
   },
   "cell_type": "code",
   "source": [
    "# From 01/01/2020 to 07/01/2020 every day\n",
    "pd.date_range('2020-01-01', periods=7, freq='D')"
   ],
   "id": "f96dd3b68fe2a543",
   "outputs": [
    {
     "data": {
      "text/plain": [
       "DatetimeIndex(['2020-01-01', '2020-01-02', '2020-01-03', '2020-01-04',\n",
       "               '2020-01-05', '2020-01-06', '2020-01-07'],\n",
       "              dtype='datetime64[ns]', freq='D')"
      ]
     },
     "execution_count": 2,
     "metadata": {},
     "output_type": "execute_result"
    }
   ],
   "execution_count": 2
  },
  {
   "metadata": {},
   "cell_type": "markdown",
   "source": [
    "## To Datetime\n",
    "\n",
    "Transform the given values into `datetime` data type."
   ],
   "id": "82daa5c66c70fb3b"
  },
  {
   "metadata": {
    "ExecuteTime": {
     "end_time": "2024-07-19T19:55:39.755437Z",
     "start_time": "2024-07-19T19:55:39.743431Z"
    }
   },
   "cell_type": "code",
   "source": [
    "# Transform values into datetime\n",
    "pd.to_datetime(['01/02/2018', 'Jan 03, 2018'], format='mixed')"
   ],
   "id": "3fa3ed5bff38ffa5",
   "outputs": [
    {
     "data": {
      "text/plain": [
       "DatetimeIndex(['2018-01-02', '2018-01-03'], dtype='datetime64[ns]', freq=None)"
      ]
     },
     "execution_count": 5,
     "metadata": {},
     "output_type": "execute_result"
    }
   ],
   "execution_count": 5
  },
  {
   "metadata": {},
   "cell_type": "markdown",
   "source": [
    "## Pandas DataFrame with DateTimeIndex\n",
    "\n",
    "Create a Pandas DataFrame with a DateTimeIndex as index."
   ],
   "id": "195a21b61a25dc9b"
  },
  {
   "metadata": {
    "ExecuteTime": {
     "end_time": "2024-07-19T20:00:44.495257Z",
     "start_time": "2024-07-19T20:00:44.489904Z"
    }
   },
   "cell_type": "code",
   "source": [
    "# Create index\n",
    "index = pd.date_range('01/01/2024', periods=30, freq='D')\n",
    "\n",
    "# Create values\n",
    "values = np.random.randint(100, size=30)\n",
    "\n",
    "# Create dataframe\n",
    "dataframe = pd.DataFrame(values, index=index, columns=['Sales'])\n",
    "\n",
    "print(dataframe.head())"
   ],
   "id": "2d69ffeb0e4f110",
   "outputs": [
    {
     "name": "stdout",
     "output_type": "stream",
     "text": [
      "            Sales\n",
      "2024-01-01     85\n",
      "2024-01-02     65\n",
      "2024-01-03     74\n",
      "2024-01-04     61\n",
      "2024-01-05     81\n"
     ]
    }
   ],
   "execution_count": 15
  },
  {
   "metadata": {},
   "cell_type": "markdown",
   "source": "# Operations",
   "id": "e5903c356ba266b3"
  },
  {
   "metadata": {},
   "cell_type": "markdown",
   "source": [
    "## Resample\n",
    "\n",
    "It converts the frequency of a time series and resample the values."
   ],
   "id": "30d3a3529b732d65"
  },
  {
   "metadata": {
    "ExecuteTime": {
     "end_time": "2024-07-19T20:05:51.078807Z",
     "start_time": "2024-07-19T20:05:51.073471Z"
    }
   },
   "cell_type": "code",
   "source": [
    "# Create a dataframe with monthly values of sales\n",
    "index = pd.date_range('01/01/2020', periods=48, freq='ME')\n",
    "values = np.random.randint(1000, size=48)\n",
    "dataframe = pd.DataFrame(values, index=index, columns=['Sales'])"
   ],
   "id": "3c6a43857b5f389f",
   "outputs": [],
   "execution_count": 20
  },
  {
   "metadata": {
    "ExecuteTime": {
     "end_time": "2024-07-19T20:18:47.595294Z",
     "start_time": "2024-07-19T20:18:47.583829Z"
    }
   },
   "cell_type": "code",
   "source": "dataframe",
   "id": "b76b1cd68fe26cf0",
   "outputs": [
    {
     "data": {
      "text/plain": [
       "            Sales\n",
       "2020-01-31    135\n",
       "2020-02-29    403\n",
       "2020-03-31    446\n",
       "2020-04-30    867\n",
       "2020-05-31    145\n",
       "2020-06-30     68\n",
       "2020-07-31    148\n",
       "2020-08-31    295\n",
       "2020-09-30    720\n",
       "2020-10-31    832\n",
       "2020-11-30    620\n",
       "2020-12-31    458\n",
       "2021-01-31    674\n",
       "2021-02-28    625\n",
       "2021-03-31    713\n",
       "2021-04-30     71\n",
       "2021-05-31    671\n",
       "2021-06-30    543\n",
       "2021-07-31    344\n",
       "2021-08-31    375\n",
       "2021-09-30    671\n",
       "2021-10-31    578\n",
       "2021-11-30    537\n",
       "2021-12-31    871\n",
       "2022-01-31    265\n",
       "2022-02-28     77\n",
       "2022-03-31    417\n",
       "2022-04-30    650\n",
       "2022-05-31    788\n",
       "2022-06-30    921\n",
       "2022-07-31    771\n",
       "2022-08-31    605\n",
       "2022-09-30    190\n",
       "2022-10-31    488\n",
       "2022-11-30    621\n",
       "2022-12-31    156\n",
       "2023-01-31    618\n",
       "2023-02-28    828\n",
       "2023-03-31    146\n",
       "2023-04-30    423\n",
       "2023-05-31    849\n",
       "2023-06-30    794\n",
       "2023-07-31    147\n",
       "2023-08-31    834\n",
       "2023-09-30      1\n",
       "2023-10-31    602\n",
       "2023-11-30    949\n",
       "2023-12-31    603"
      ],
      "text/html": [
       "<div>\n",
       "<style scoped>\n",
       "    .dataframe tbody tr th:only-of-type {\n",
       "        vertical-align: middle;\n",
       "    }\n",
       "\n",
       "    .dataframe tbody tr th {\n",
       "        vertical-align: top;\n",
       "    }\n",
       "\n",
       "    .dataframe thead th {\n",
       "        text-align: right;\n",
       "    }\n",
       "</style>\n",
       "<table border=\"1\" class=\"dataframe\">\n",
       "  <thead>\n",
       "    <tr style=\"text-align: right;\">\n",
       "      <th></th>\n",
       "      <th>Sales</th>\n",
       "    </tr>\n",
       "  </thead>\n",
       "  <tbody>\n",
       "    <tr>\n",
       "      <th>2020-01-31</th>\n",
       "      <td>135</td>\n",
       "    </tr>\n",
       "    <tr>\n",
       "      <th>2020-02-29</th>\n",
       "      <td>403</td>\n",
       "    </tr>\n",
       "    <tr>\n",
       "      <th>2020-03-31</th>\n",
       "      <td>446</td>\n",
       "    </tr>\n",
       "    <tr>\n",
       "      <th>2020-04-30</th>\n",
       "      <td>867</td>\n",
       "    </tr>\n",
       "    <tr>\n",
       "      <th>2020-05-31</th>\n",
       "      <td>145</td>\n",
       "    </tr>\n",
       "    <tr>\n",
       "      <th>2020-06-30</th>\n",
       "      <td>68</td>\n",
       "    </tr>\n",
       "    <tr>\n",
       "      <th>2020-07-31</th>\n",
       "      <td>148</td>\n",
       "    </tr>\n",
       "    <tr>\n",
       "      <th>2020-08-31</th>\n",
       "      <td>295</td>\n",
       "    </tr>\n",
       "    <tr>\n",
       "      <th>2020-09-30</th>\n",
       "      <td>720</td>\n",
       "    </tr>\n",
       "    <tr>\n",
       "      <th>2020-10-31</th>\n",
       "      <td>832</td>\n",
       "    </tr>\n",
       "    <tr>\n",
       "      <th>2020-11-30</th>\n",
       "      <td>620</td>\n",
       "    </tr>\n",
       "    <tr>\n",
       "      <th>2020-12-31</th>\n",
       "      <td>458</td>\n",
       "    </tr>\n",
       "    <tr>\n",
       "      <th>2021-01-31</th>\n",
       "      <td>674</td>\n",
       "    </tr>\n",
       "    <tr>\n",
       "      <th>2021-02-28</th>\n",
       "      <td>625</td>\n",
       "    </tr>\n",
       "    <tr>\n",
       "      <th>2021-03-31</th>\n",
       "      <td>713</td>\n",
       "    </tr>\n",
       "    <tr>\n",
       "      <th>2021-04-30</th>\n",
       "      <td>71</td>\n",
       "    </tr>\n",
       "    <tr>\n",
       "      <th>2021-05-31</th>\n",
       "      <td>671</td>\n",
       "    </tr>\n",
       "    <tr>\n",
       "      <th>2021-06-30</th>\n",
       "      <td>543</td>\n",
       "    </tr>\n",
       "    <tr>\n",
       "      <th>2021-07-31</th>\n",
       "      <td>344</td>\n",
       "    </tr>\n",
       "    <tr>\n",
       "      <th>2021-08-31</th>\n",
       "      <td>375</td>\n",
       "    </tr>\n",
       "    <tr>\n",
       "      <th>2021-09-30</th>\n",
       "      <td>671</td>\n",
       "    </tr>\n",
       "    <tr>\n",
       "      <th>2021-10-31</th>\n",
       "      <td>578</td>\n",
       "    </tr>\n",
       "    <tr>\n",
       "      <th>2021-11-30</th>\n",
       "      <td>537</td>\n",
       "    </tr>\n",
       "    <tr>\n",
       "      <th>2021-12-31</th>\n",
       "      <td>871</td>\n",
       "    </tr>\n",
       "    <tr>\n",
       "      <th>2022-01-31</th>\n",
       "      <td>265</td>\n",
       "    </tr>\n",
       "    <tr>\n",
       "      <th>2022-02-28</th>\n",
       "      <td>77</td>\n",
       "    </tr>\n",
       "    <tr>\n",
       "      <th>2022-03-31</th>\n",
       "      <td>417</td>\n",
       "    </tr>\n",
       "    <tr>\n",
       "      <th>2022-04-30</th>\n",
       "      <td>650</td>\n",
       "    </tr>\n",
       "    <tr>\n",
       "      <th>2022-05-31</th>\n",
       "      <td>788</td>\n",
       "    </tr>\n",
       "    <tr>\n",
       "      <th>2022-06-30</th>\n",
       "      <td>921</td>\n",
       "    </tr>\n",
       "    <tr>\n",
       "      <th>2022-07-31</th>\n",
       "      <td>771</td>\n",
       "    </tr>\n",
       "    <tr>\n",
       "      <th>2022-08-31</th>\n",
       "      <td>605</td>\n",
       "    </tr>\n",
       "    <tr>\n",
       "      <th>2022-09-30</th>\n",
       "      <td>190</td>\n",
       "    </tr>\n",
       "    <tr>\n",
       "      <th>2022-10-31</th>\n",
       "      <td>488</td>\n",
       "    </tr>\n",
       "    <tr>\n",
       "      <th>2022-11-30</th>\n",
       "      <td>621</td>\n",
       "    </tr>\n",
       "    <tr>\n",
       "      <th>2022-12-31</th>\n",
       "      <td>156</td>\n",
       "    </tr>\n",
       "    <tr>\n",
       "      <th>2023-01-31</th>\n",
       "      <td>618</td>\n",
       "    </tr>\n",
       "    <tr>\n",
       "      <th>2023-02-28</th>\n",
       "      <td>828</td>\n",
       "    </tr>\n",
       "    <tr>\n",
       "      <th>2023-03-31</th>\n",
       "      <td>146</td>\n",
       "    </tr>\n",
       "    <tr>\n",
       "      <th>2023-04-30</th>\n",
       "      <td>423</td>\n",
       "    </tr>\n",
       "    <tr>\n",
       "      <th>2023-05-31</th>\n",
       "      <td>849</td>\n",
       "    </tr>\n",
       "    <tr>\n",
       "      <th>2023-06-30</th>\n",
       "      <td>794</td>\n",
       "    </tr>\n",
       "    <tr>\n",
       "      <th>2023-07-31</th>\n",
       "      <td>147</td>\n",
       "    </tr>\n",
       "    <tr>\n",
       "      <th>2023-08-31</th>\n",
       "      <td>834</td>\n",
       "    </tr>\n",
       "    <tr>\n",
       "      <th>2023-09-30</th>\n",
       "      <td>1</td>\n",
       "    </tr>\n",
       "    <tr>\n",
       "      <th>2023-10-31</th>\n",
       "      <td>602</td>\n",
       "    </tr>\n",
       "    <tr>\n",
       "      <th>2023-11-30</th>\n",
       "      <td>949</td>\n",
       "    </tr>\n",
       "    <tr>\n",
       "      <th>2023-12-31</th>\n",
       "      <td>603</td>\n",
       "    </tr>\n",
       "  </tbody>\n",
       "</table>\n",
       "</div>"
      ]
     },
     "execution_count": 27,
     "metadata": {},
     "output_type": "execute_result"
    }
   ],
   "execution_count": 27
  },
  {
   "metadata": {
    "ExecuteTime": {
     "end_time": "2024-07-19T20:06:37.158864Z",
     "start_time": "2024-07-19T20:06:37.147579Z"
    }
   },
   "cell_type": "code",
   "source": [
    "# Let's resample it to a 'yearly' frequency and computing the mean\n",
    "dataframe.resample(rule='YE').mean()"
   ],
   "id": "c61248f86defe9c5",
   "outputs": [
    {
     "data": {
      "text/plain": [
       "                 Sales\n",
       "2020-12-31  428.083333\n",
       "2021-12-31  556.083333\n",
       "2022-12-31  495.750000\n",
       "2023-12-31  566.166667"
      ],
      "text/html": [
       "<div>\n",
       "<style scoped>\n",
       "    .dataframe tbody tr th:only-of-type {\n",
       "        vertical-align: middle;\n",
       "    }\n",
       "\n",
       "    .dataframe tbody tr th {\n",
       "        vertical-align: top;\n",
       "    }\n",
       "\n",
       "    .dataframe thead th {\n",
       "        text-align: right;\n",
       "    }\n",
       "</style>\n",
       "<table border=\"1\" class=\"dataframe\">\n",
       "  <thead>\n",
       "    <tr style=\"text-align: right;\">\n",
       "      <th></th>\n",
       "      <th>Sales</th>\n",
       "    </tr>\n",
       "  </thead>\n",
       "  <tbody>\n",
       "    <tr>\n",
       "      <th>2020-12-31</th>\n",
       "      <td>428.083333</td>\n",
       "    </tr>\n",
       "    <tr>\n",
       "      <th>2021-12-31</th>\n",
       "      <td>556.083333</td>\n",
       "    </tr>\n",
       "    <tr>\n",
       "      <th>2022-12-31</th>\n",
       "      <td>495.750000</td>\n",
       "    </tr>\n",
       "    <tr>\n",
       "      <th>2023-12-31</th>\n",
       "      <td>566.166667</td>\n",
       "    </tr>\n",
       "  </tbody>\n",
       "</table>\n",
       "</div>"
      ]
     },
     "execution_count": 23,
     "metadata": {},
     "output_type": "execute_result"
    }
   ],
   "execution_count": 23
  },
  {
   "metadata": {},
   "cell_type": "markdown",
   "source": [
    "## Custom Resample\n",
    "\n",
    "Instead of applying standard functions like `mean()`, it is also possible to apply custom functions."
   ],
   "id": "824f914b7d2e03f9"
  },
  {
   "metadata": {
    "ExecuteTime": {
     "end_time": "2024-07-19T20:22:14.614524Z",
     "start_time": "2024-07-19T20:22:14.605650Z"
    }
   },
   "cell_type": "code",
   "source": [
    "# Create a function to return the sales x 2\n",
    "def double_sales(entry):\n",
    "    \n",
    "    return entry * 2\n",
    "\n",
    "# Let's resample it to a 'yearly' frequency and apply the 'double_sales' function\n",
    "dataframe.resample(rule='YE').mean().apply(double_sales)"
   ],
   "id": "a13cd3d5bf91225a",
   "outputs": [
    {
     "data": {
      "text/plain": [
       "                  Sales\n",
       "2020-12-31   856.166667\n",
       "2021-12-31  1112.166667\n",
       "2022-12-31   991.500000\n",
       "2023-12-31  1132.333333"
      ],
      "text/html": [
       "<div>\n",
       "<style scoped>\n",
       "    .dataframe tbody tr th:only-of-type {\n",
       "        vertical-align: middle;\n",
       "    }\n",
       "\n",
       "    .dataframe tbody tr th {\n",
       "        vertical-align: top;\n",
       "    }\n",
       "\n",
       "    .dataframe thead th {\n",
       "        text-align: right;\n",
       "    }\n",
       "</style>\n",
       "<table border=\"1\" class=\"dataframe\">\n",
       "  <thead>\n",
       "    <tr style=\"text-align: right;\">\n",
       "      <th></th>\n",
       "      <th>Sales</th>\n",
       "    </tr>\n",
       "  </thead>\n",
       "  <tbody>\n",
       "    <tr>\n",
       "      <th>2020-12-31</th>\n",
       "      <td>856.166667</td>\n",
       "    </tr>\n",
       "    <tr>\n",
       "      <th>2021-12-31</th>\n",
       "      <td>1112.166667</td>\n",
       "    </tr>\n",
       "    <tr>\n",
       "      <th>2022-12-31</th>\n",
       "      <td>991.500000</td>\n",
       "    </tr>\n",
       "    <tr>\n",
       "      <th>2023-12-31</th>\n",
       "      <td>1132.333333</td>\n",
       "    </tr>\n",
       "  </tbody>\n",
       "</table>\n",
       "</div>"
      ]
     },
     "execution_count": 38,
     "metadata": {},
     "output_type": "execute_result"
    }
   ],
   "execution_count": 38
  },
  {
   "metadata": {},
   "cell_type": "markdown",
   "source": [
    "## Shifting\n",
    "\n",
    "Shift the values of all the columns of a Pandas DataFrame by a fixed lag or a period."
   ],
   "id": "23c5e0565fb8a414"
  },
  {
   "metadata": {
    "ExecuteTime": {
     "end_time": "2024-07-20T20:01:09.033543Z",
     "start_time": "2024-07-20T20:01:09.026276Z"
    }
   },
   "cell_type": "code",
   "source": [
    "# Create a dataframe with monthly values of sales\n",
    "index = pd.date_range('01/01/2020', periods=48, freq='ME')\n",
    "values = np.random.randint(1000, size=48)\n",
    "dataframe = pd.DataFrame(values, index=index, columns=['Sales'])\n",
    "\n",
    "# Shift the values forward by one\n",
    "print(dataframe.head())\n",
    "print(dataframe.shift(1).head())"
   ],
   "id": "21c784c0ce0f48ba",
   "outputs": [
    {
     "name": "stdout",
     "output_type": "stream",
     "text": [
      "            Sales\n",
      "2020-01-31    584\n",
      "2020-02-29    731\n",
      "2020-03-31    677\n",
      "2020-04-30    686\n",
      "2020-05-31    938\n",
      "            Sales\n",
      "2020-01-31    NaN\n",
      "2020-02-29  584.0\n",
      "2020-03-31  731.0\n",
      "2020-04-30  677.0\n",
      "2020-05-31  686.0\n"
     ]
    }
   ],
   "execution_count": 3
  },
  {
   "metadata": {
    "ExecuteTime": {
     "end_time": "2024-07-20T20:02:44.071324Z",
     "start_time": "2024-07-20T20:02:44.063434Z"
    }
   },
   "cell_type": "code",
   "source": [
    "# Shift two months ahead\n",
    "print(dataframe.shift(periods=2, freq='ME').head())"
   ],
   "id": "18ef561fddcac994",
   "outputs": [
    {
     "name": "stdout",
     "output_type": "stream",
     "text": [
      "            Sales\n",
      "2020-03-31    584\n",
      "2020-04-30    731\n",
      "2020-05-31    677\n",
      "2020-06-30    686\n",
      "2020-07-31    938\n"
     ]
    }
   ],
   "execution_count": 5
  },
  {
   "metadata": {},
   "cell_type": "markdown",
   "source": "## Rolling",
   "id": "337f3502ce52ba0b"
  },
  {
   "metadata": {
    "ExecuteTime": {
     "end_time": "2024-07-20T20:04:51.526450Z",
     "start_time": "2024-07-20T20:04:51.521724Z"
    }
   },
   "cell_type": "code",
   "source": [
    "# Create a dataframe with daily values of sales\n",
    "index = pd.date_range('01/01/2020', periods=90, freq='D')\n",
    "values = np.random.randint(1000, size=90)\n",
    "dataframe = pd.DataFrame(values, index=index, columns=['Sales'])"
   ],
   "id": "41d4d045cbff071e",
   "outputs": [],
   "execution_count": 9
  },
  {
   "metadata": {
    "ExecuteTime": {
     "end_time": "2024-07-20T20:05:30.616310Z",
     "start_time": "2024-07-20T20:05:30.605519Z"
    }
   },
   "cell_type": "code",
   "source": [
    "# Compute the mean of a sliding window\n",
    "dataframe.rolling(window=7, center=True).mean()"
   ],
   "id": "8f4cdfdf7cc97af6",
   "outputs": [
    {
     "data": {
      "text/plain": [
       "                 Sales\n",
       "2020-01-01         NaN\n",
       "2020-01-02         NaN\n",
       "2020-01-03         NaN\n",
       "2020-01-04  284.714286\n",
       "2020-01-05  352.142857\n",
       "...                ...\n",
       "2020-03-26  610.714286\n",
       "2020-03-27  656.571429\n",
       "2020-03-28         NaN\n",
       "2020-03-29         NaN\n",
       "2020-03-30         NaN\n",
       "\n",
       "[90 rows x 1 columns]"
      ],
      "text/html": [
       "<div>\n",
       "<style scoped>\n",
       "    .dataframe tbody tr th:only-of-type {\n",
       "        vertical-align: middle;\n",
       "    }\n",
       "\n",
       "    .dataframe tbody tr th {\n",
       "        vertical-align: top;\n",
       "    }\n",
       "\n",
       "    .dataframe thead th {\n",
       "        text-align: right;\n",
       "    }\n",
       "</style>\n",
       "<table border=\"1\" class=\"dataframe\">\n",
       "  <thead>\n",
       "    <tr style=\"text-align: right;\">\n",
       "      <th></th>\n",
       "      <th>Sales</th>\n",
       "    </tr>\n",
       "  </thead>\n",
       "  <tbody>\n",
       "    <tr>\n",
       "      <th>2020-01-01</th>\n",
       "      <td>NaN</td>\n",
       "    </tr>\n",
       "    <tr>\n",
       "      <th>2020-01-02</th>\n",
       "      <td>NaN</td>\n",
       "    </tr>\n",
       "    <tr>\n",
       "      <th>2020-01-03</th>\n",
       "      <td>NaN</td>\n",
       "    </tr>\n",
       "    <tr>\n",
       "      <th>2020-01-04</th>\n",
       "      <td>284.714286</td>\n",
       "    </tr>\n",
       "    <tr>\n",
       "      <th>2020-01-05</th>\n",
       "      <td>352.142857</td>\n",
       "    </tr>\n",
       "    <tr>\n",
       "      <th>...</th>\n",
       "      <td>...</td>\n",
       "    </tr>\n",
       "    <tr>\n",
       "      <th>2020-03-26</th>\n",
       "      <td>610.714286</td>\n",
       "    </tr>\n",
       "    <tr>\n",
       "      <th>2020-03-27</th>\n",
       "      <td>656.571429</td>\n",
       "    </tr>\n",
       "    <tr>\n",
       "      <th>2020-03-28</th>\n",
       "      <td>NaN</td>\n",
       "    </tr>\n",
       "    <tr>\n",
       "      <th>2020-03-29</th>\n",
       "      <td>NaN</td>\n",
       "    </tr>\n",
       "    <tr>\n",
       "      <th>2020-03-30</th>\n",
       "      <td>NaN</td>\n",
       "    </tr>\n",
       "  </tbody>\n",
       "</table>\n",
       "<p>90 rows × 1 columns</p>\n",
       "</div>"
      ]
     },
     "execution_count": 11,
     "metadata": {},
     "output_type": "execute_result"
    }
   ],
   "execution_count": 11
  },
  {
   "metadata": {
    "ExecuteTime": {
     "end_time": "2024-07-20T20:06:59.383466Z",
     "start_time": "2024-07-20T20:06:59.376725Z"
    }
   },
   "cell_type": "code",
   "source": [
    "# The first value is exactly the mean of the first 7 days\n",
    "# The value is placed then at the center of the window (202-01-04)\n",
    "dataframe.iloc[:7, :].mean()"
   ],
   "id": "a72ace89593d52ca",
   "outputs": [
    {
     "data": {
      "text/plain": [
       "Sales    284.714286\n",
       "dtype: float64"
      ]
     },
     "execution_count": 18,
     "metadata": {},
     "output_type": "execute_result"
    }
   ],
   "execution_count": 18
  },
  {
   "metadata": {},
   "cell_type": "code",
   "outputs": [],
   "execution_count": null,
   "source": "",
   "id": "15a210ffb5ab5bf"
  }
 ],
 "metadata": {
  "kernelspec": {
   "display_name": "timewarpforecast",
   "language": "python",
   "name": "timewarpforecast"
  },
  "language_info": {
   "codemirror_mode": {
    "name": "ipython",
    "version": 2
   },
   "file_extension": ".py",
   "mimetype": "text/x-python",
   "name": "python",
   "nbconvert_exporter": "python",
   "pygments_lexer": "ipython2",
   "version": "2.7.6"
  }
 },
 "nbformat": 4,
 "nbformat_minor": 5
}
