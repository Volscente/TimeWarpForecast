{
 "cells": [
  {
   "metadata": {},
   "cell_type": "markdown",
   "source": [
    "# Pandas Code Utils\n",
    "\n",
    "The Notebook includes different code utils in Pandas for Time Series."
   ],
   "id": "a39a738e265d9080"
  },
  {
   "metadata": {
    "ExecuteTime": {
     "end_time": "2024-09-04T17:58:32.680103Z",
     "start_time": "2024-09-04T17:58:28.824863Z"
    }
   },
   "cell_type": "code",
   "source": [
    "# Import Standard Libraries\n",
    "import pandas as pd\n",
    "import numpy as np"
   ],
   "id": "192d26120c9227da",
   "outputs": [],
   "execution_count": 18
  },
  {
   "metadata": {},
   "cell_type": "markdown",
   "source": "# Time Data Types",
   "id": "b0b7341764f9d0a2"
  },
  {
   "metadata": {},
   "cell_type": "markdown",
   "source": "## Date Range",
   "id": "e63a6e8e10533d30"
  },
  {
   "metadata": {},
   "cell_type": "markdown",
   "source": [
    "### Definition\n",
    "\n",
    "It creates a range of dates from the specified origin, across the given period with a certain frequency."
   ],
   "id": "76e8e90c25645dc3"
  },
  {
   "metadata": {
    "ExecuteTime": {
     "end_time": "2024-09-04T17:58:32.693750Z",
     "start_time": "2024-09-04T17:58:32.682824Z"
    }
   },
   "cell_type": "code",
   "source": [
    "# From 01/01/2020 to 07/01/2020 every day\n",
    "pd.date_range('2020-01-01', periods=7, freq='D')"
   ],
   "id": "f96dd3b68fe2a543",
   "outputs": [
    {
     "data": {
      "text/plain": [
       "DatetimeIndex(['2020-01-01', '2020-01-02', '2020-01-03', '2020-01-04',\n",
       "               '2020-01-05', '2020-01-06', '2020-01-07'],\n",
       "              dtype='datetime64[ns]', freq='D')"
      ]
     },
     "execution_count": 19,
     "metadata": {},
     "output_type": "execute_result"
    }
   ],
   "execution_count": 19
  },
  {
   "metadata": {},
   "cell_type": "markdown",
   "source": [
    "### Pandas DataFrame with DateTimeIndex\n",
    "\n",
    "Create a Pandas DataFrame with a DateTimeIndex as index."
   ],
   "id": "195a21b61a25dc9b"
  },
  {
   "metadata": {
    "ExecuteTime": {
     "end_time": "2024-09-04T17:58:32.740415Z",
     "start_time": "2024-09-04T17:58:32.695685Z"
    }
   },
   "cell_type": "code",
   "source": [
    "# Create index\n",
    "index = pd.date_range('01/01/2024', periods=30, freq='D')\n",
    "\n",
    "# Create values\n",
    "values = np.random.randint(100, size=30)\n",
    "\n",
    "# Create dataframe\n",
    "dataframe = pd.DataFrame(values, index=index, columns=['Sales'])\n",
    "\n",
    "print(dataframe.head())"
   ],
   "id": "2d69ffeb0e4f110",
   "outputs": [
    {
     "name": "stdout",
     "output_type": "stream",
     "text": [
      "            Sales\n",
      "2024-01-01     58\n",
      "2024-01-02     51\n",
      "2024-01-03     26\n",
      "2024-01-04     86\n",
      "2024-01-05     47\n"
     ]
    }
   ],
   "execution_count": 20
  },
  {
   "metadata": {},
   "cell_type": "markdown",
   "source": [
    "### Partial String Indexing\n",
    "\n",
    "Select a subrange of dates for indexing."
   ],
   "id": "87354ad751578c9c"
  },
  {
   "metadata": {
    "ExecuteTime": {
     "end_time": "2024-09-04T17:58:32.766936Z",
     "start_time": "2024-09-04T17:58:32.745871Z"
    }
   },
   "cell_type": "code",
   "source": [
    "# Select from 10/01/2024 to 17/01/2024\n",
    "dataframe['2024-01-10':'2024-01-17']"
   ],
   "id": "4a2ddae9c09979",
   "outputs": [
    {
     "data": {
      "text/plain": [
       "            Sales\n",
       "2024-01-10     58\n",
       "2024-01-11     48\n",
       "2024-01-12     53\n",
       "2024-01-13      5\n",
       "2024-01-14     99\n",
       "2024-01-15     94\n",
       "2024-01-16     81\n",
       "2024-01-17     26"
      ],
      "text/html": [
       "<div>\n",
       "<style scoped>\n",
       "    .dataframe tbody tr th:only-of-type {\n",
       "        vertical-align: middle;\n",
       "    }\n",
       "\n",
       "    .dataframe tbody tr th {\n",
       "        vertical-align: top;\n",
       "    }\n",
       "\n",
       "    .dataframe thead th {\n",
       "        text-align: right;\n",
       "    }\n",
       "</style>\n",
       "<table border=\"1\" class=\"dataframe\">\n",
       "  <thead>\n",
       "    <tr style=\"text-align: right;\">\n",
       "      <th></th>\n",
       "      <th>Sales</th>\n",
       "    </tr>\n",
       "  </thead>\n",
       "  <tbody>\n",
       "    <tr>\n",
       "      <th>2024-01-10</th>\n",
       "      <td>58</td>\n",
       "    </tr>\n",
       "    <tr>\n",
       "      <th>2024-01-11</th>\n",
       "      <td>48</td>\n",
       "    </tr>\n",
       "    <tr>\n",
       "      <th>2024-01-12</th>\n",
       "      <td>53</td>\n",
       "    </tr>\n",
       "    <tr>\n",
       "      <th>2024-01-13</th>\n",
       "      <td>5</td>\n",
       "    </tr>\n",
       "    <tr>\n",
       "      <th>2024-01-14</th>\n",
       "      <td>99</td>\n",
       "    </tr>\n",
       "    <tr>\n",
       "      <th>2024-01-15</th>\n",
       "      <td>94</td>\n",
       "    </tr>\n",
       "    <tr>\n",
       "      <th>2024-01-16</th>\n",
       "      <td>81</td>\n",
       "    </tr>\n",
       "    <tr>\n",
       "      <th>2024-01-17</th>\n",
       "      <td>26</td>\n",
       "    </tr>\n",
       "  </tbody>\n",
       "</table>\n",
       "</div>"
      ]
     },
     "execution_count": 21,
     "metadata": {},
     "output_type": "execute_result"
    }
   ],
   "execution_count": 21
  },
  {
   "metadata": {},
   "cell_type": "markdown",
   "source": "## Timestamp",
   "id": "cacd075772fafaf7"
  },
  {
   "metadata": {},
   "cell_type": "markdown",
   "source": "### General",
   "id": "96f1ccfab29ad0f5"
  },
  {
   "metadata": {
    "ExecuteTime": {
     "end_time": "2024-09-04T17:58:32.774419Z",
     "start_time": "2024-09-04T17:58:32.768865Z"
    }
   },
   "cell_type": "code",
   "source": [
    "# Create a Pandas Timestamp value\n",
    "pd.Timestamp('01/01/2018')"
   ],
   "id": "2448d79a8f7188c2",
   "outputs": [
    {
     "data": {
      "text/plain": [
       "Timestamp('2018-01-01 00:00:00')"
      ]
     },
     "execution_count": 22,
     "metadata": {},
     "output_type": "execute_result"
    }
   ],
   "execution_count": 22
  },
  {
   "metadata": {},
   "cell_type": "markdown",
   "source": "### Attributes",
   "id": "cbe759ade6d6e3a8"
  },
  {
   "metadata": {
    "ExecuteTime": {
     "end_time": "2024-09-04T17:58:32.785549Z",
     "start_time": "2024-09-04T17:58:32.776507Z"
    }
   },
   "cell_type": "code",
   "source": [
    "# Get attributes\n",
    "pandas_timestamp = pd.to_datetime('01/01/2018')\n",
    "\n",
    "print(f'Year: {pandas_timestamp.year}')\n",
    "print(f'Day Name: {pandas_timestamp.day_name()}')"
   ],
   "id": "d479eeb6827f47fe",
   "outputs": [
    {
     "name": "stdout",
     "output_type": "stream",
     "text": [
      "Year: 2018\n",
      "Day Name: Monday\n"
     ]
    }
   ],
   "execution_count": 23
  },
  {
   "metadata": {},
   "cell_type": "markdown",
   "source": "## Datetime",
   "id": "46ca0075ee931eb0"
  },
  {
   "metadata": {},
   "cell_type": "markdown",
   "source": [
    "### To Datetime Operation\n",
    "\n",
    "Transform the given values into `datetime` data type."
   ],
   "id": "acd3254f88e18b65"
  },
  {
   "metadata": {
    "ExecuteTime": {
     "end_time": "2024-09-04T17:58:32.797447Z",
     "start_time": "2024-09-04T17:58:32.787359Z"
    }
   },
   "cell_type": "code",
   "source": [
    "# Transform values into datetime\n",
    "pd.to_datetime(['01/02/2018', 'Jan 03, 2018'], format='mixed')"
   ],
   "id": "cd61f823ea07922",
   "outputs": [
    {
     "data": {
      "text/plain": [
       "DatetimeIndex(['2018-01-02', '2018-01-03'], dtype='datetime64[ns]', freq=None)"
      ]
     },
     "execution_count": 24,
     "metadata": {},
     "output_type": "execute_result"
    }
   ],
   "execution_count": 24
  },
  {
   "metadata": {},
   "cell_type": "markdown",
   "source": "## Period",
   "id": "43dae0c0c47fc6e0"
  },
  {
   "metadata": {},
   "cell_type": "markdown",
   "source": [
    "### Definition\n",
    "\n",
    "The period object has always a frequency."
   ],
   "id": "d72a6c028ce4f6ca"
  },
  {
   "metadata": {
    "ExecuteTime": {
     "end_time": "2024-09-04T17:58:32.806588Z",
     "start_time": "2024-09-04T17:58:32.800150Z"
    }
   },
   "cell_type": "code",
   "source": [
    "# Create a Pandas Period\n",
    "pd.Period('2017-01')"
   ],
   "id": "58ec0600293e603c",
   "outputs": [
    {
     "data": {
      "text/plain": [
       "Period('2017-01', 'M')"
      ]
     },
     "execution_count": 25,
     "metadata": {},
     "output_type": "execute_result"
    }
   ],
   "execution_count": 25
  },
  {
   "metadata": {},
   "cell_type": "markdown",
   "source": "### Operations",
   "id": "1367128844f0f053"
  },
  {
   "metadata": {
    "ExecuteTime": {
     "end_time": "2024-09-04T17:58:32.816781Z",
     "start_time": "2024-09-04T17:58:32.809180Z"
    }
   },
   "cell_type": "code",
   "source": [
    "# Convert frequency\n",
    "pandas_period = pd.Period('2017-01', freq='M')\n",
    "pandas_period = pandas_period.asfreq('D')\n",
    "pandas_period"
   ],
   "id": "95c6ea2ebdd8044b",
   "outputs": [
    {
     "data": {
      "text/plain": [
       "Period('2017-01-31', 'D')"
      ]
     },
     "execution_count": 26,
     "metadata": {},
     "output_type": "execute_result"
    }
   ],
   "execution_count": 26
  },
  {
   "metadata": {
    "ExecuteTime": {
     "end_time": "2024-09-04T17:58:32.832466Z",
     "start_time": "2024-09-04T17:58:32.825652Z"
    }
   },
   "cell_type": "code",
   "source": [
    "# Add period\n",
    "pandas_period = pd.Period('2017-01', freq='M')\n",
    "pandas_period + 2"
   ],
   "id": "ac3ed61d238e0453",
   "outputs": [
    {
     "data": {
      "text/plain": [
       "Period('2017-03', 'M')"
      ]
     },
     "execution_count": 27,
     "metadata": {},
     "output_type": "execute_result"
    }
   ],
   "execution_count": 27
  },
  {
   "metadata": {},
   "cell_type": "markdown",
   "source": "# Operations",
   "id": "e5903c356ba266b3"
  },
  {
   "metadata": {},
   "cell_type": "markdown",
   "source": [
    "## Resample\n",
    "\n",
    "It converts the frequency of a time series and resample the values."
   ],
   "id": "30d3a3529b732d65"
  },
  {
   "metadata": {
    "ExecuteTime": {
     "end_time": "2024-09-04T17:58:32.840722Z",
     "start_time": "2024-09-04T17:58:32.834636Z"
    }
   },
   "cell_type": "code",
   "source": [
    "# Create a dataframe with monthly values of sales\n",
    "index = pd.date_range('01/01/2020', periods=48, freq='ME')\n",
    "values = np.random.randint(1000, size=48)\n",
    "dataframe = pd.DataFrame(values, index=index, columns=['Sales'])"
   ],
   "id": "3c6a43857b5f389f",
   "outputs": [],
   "execution_count": 28
  },
  {
   "metadata": {
    "ExecuteTime": {
     "end_time": "2024-09-04T17:58:32.852631Z",
     "start_time": "2024-09-04T17:58:32.843168Z"
    }
   },
   "cell_type": "code",
   "source": "dataframe",
   "id": "b76b1cd68fe26cf0",
   "outputs": [
    {
     "data": {
      "text/plain": [
       "            Sales\n",
       "2020-01-31    249\n",
       "2020-02-29    140\n",
       "2020-03-31    772\n",
       "2020-04-30    450\n",
       "2020-05-31    533\n",
       "2020-06-30    342\n",
       "2020-07-31    741\n",
       "2020-08-31    217\n",
       "2020-09-30    584\n",
       "2020-10-31    525\n",
       "2020-11-30    815\n",
       "2020-12-31    155\n",
       "2021-01-31    705\n",
       "2021-02-28    974\n",
       "2021-03-31    416\n",
       "2021-04-30    704\n",
       "2021-05-31    152\n",
       "2021-06-30    280\n",
       "2021-07-31    983\n",
       "2021-08-31    804\n",
       "2021-09-30    162\n",
       "2021-10-31    501\n",
       "2021-11-30    392\n",
       "2021-12-31    392\n",
       "2022-01-31    337\n",
       "2022-02-28    129\n",
       "2022-03-31     37\n",
       "2022-04-30    182\n",
       "2022-05-31    587\n",
       "2022-06-30    732\n",
       "2022-07-31    725\n",
       "2022-08-31    319\n",
       "2022-09-30    867\n",
       "2022-10-31    706\n",
       "2022-11-30    206\n",
       "2022-12-31    218\n",
       "2023-01-31     33\n",
       "2023-02-28    799\n",
       "2023-03-31    571\n",
       "2023-04-30    125\n",
       "2023-05-31    706\n",
       "2023-06-30    822\n",
       "2023-07-31    704\n",
       "2023-08-31    530\n",
       "2023-09-30    397\n",
       "2023-10-31    338\n",
       "2023-11-30    837\n",
       "2023-12-31    379"
      ],
      "text/html": [
       "<div>\n",
       "<style scoped>\n",
       "    .dataframe tbody tr th:only-of-type {\n",
       "        vertical-align: middle;\n",
       "    }\n",
       "\n",
       "    .dataframe tbody tr th {\n",
       "        vertical-align: top;\n",
       "    }\n",
       "\n",
       "    .dataframe thead th {\n",
       "        text-align: right;\n",
       "    }\n",
       "</style>\n",
       "<table border=\"1\" class=\"dataframe\">\n",
       "  <thead>\n",
       "    <tr style=\"text-align: right;\">\n",
       "      <th></th>\n",
       "      <th>Sales</th>\n",
       "    </tr>\n",
       "  </thead>\n",
       "  <tbody>\n",
       "    <tr>\n",
       "      <th>2020-01-31</th>\n",
       "      <td>249</td>\n",
       "    </tr>\n",
       "    <tr>\n",
       "      <th>2020-02-29</th>\n",
       "      <td>140</td>\n",
       "    </tr>\n",
       "    <tr>\n",
       "      <th>2020-03-31</th>\n",
       "      <td>772</td>\n",
       "    </tr>\n",
       "    <tr>\n",
       "      <th>2020-04-30</th>\n",
       "      <td>450</td>\n",
       "    </tr>\n",
       "    <tr>\n",
       "      <th>2020-05-31</th>\n",
       "      <td>533</td>\n",
       "    </tr>\n",
       "    <tr>\n",
       "      <th>2020-06-30</th>\n",
       "      <td>342</td>\n",
       "    </tr>\n",
       "    <tr>\n",
       "      <th>2020-07-31</th>\n",
       "      <td>741</td>\n",
       "    </tr>\n",
       "    <tr>\n",
       "      <th>2020-08-31</th>\n",
       "      <td>217</td>\n",
       "    </tr>\n",
       "    <tr>\n",
       "      <th>2020-09-30</th>\n",
       "      <td>584</td>\n",
       "    </tr>\n",
       "    <tr>\n",
       "      <th>2020-10-31</th>\n",
       "      <td>525</td>\n",
       "    </tr>\n",
       "    <tr>\n",
       "      <th>2020-11-30</th>\n",
       "      <td>815</td>\n",
       "    </tr>\n",
       "    <tr>\n",
       "      <th>2020-12-31</th>\n",
       "      <td>155</td>\n",
       "    </tr>\n",
       "    <tr>\n",
       "      <th>2021-01-31</th>\n",
       "      <td>705</td>\n",
       "    </tr>\n",
       "    <tr>\n",
       "      <th>2021-02-28</th>\n",
       "      <td>974</td>\n",
       "    </tr>\n",
       "    <tr>\n",
       "      <th>2021-03-31</th>\n",
       "      <td>416</td>\n",
       "    </tr>\n",
       "    <tr>\n",
       "      <th>2021-04-30</th>\n",
       "      <td>704</td>\n",
       "    </tr>\n",
       "    <tr>\n",
       "      <th>2021-05-31</th>\n",
       "      <td>152</td>\n",
       "    </tr>\n",
       "    <tr>\n",
       "      <th>2021-06-30</th>\n",
       "      <td>280</td>\n",
       "    </tr>\n",
       "    <tr>\n",
       "      <th>2021-07-31</th>\n",
       "      <td>983</td>\n",
       "    </tr>\n",
       "    <tr>\n",
       "      <th>2021-08-31</th>\n",
       "      <td>804</td>\n",
       "    </tr>\n",
       "    <tr>\n",
       "      <th>2021-09-30</th>\n",
       "      <td>162</td>\n",
       "    </tr>\n",
       "    <tr>\n",
       "      <th>2021-10-31</th>\n",
       "      <td>501</td>\n",
       "    </tr>\n",
       "    <tr>\n",
       "      <th>2021-11-30</th>\n",
       "      <td>392</td>\n",
       "    </tr>\n",
       "    <tr>\n",
       "      <th>2021-12-31</th>\n",
       "      <td>392</td>\n",
       "    </tr>\n",
       "    <tr>\n",
       "      <th>2022-01-31</th>\n",
       "      <td>337</td>\n",
       "    </tr>\n",
       "    <tr>\n",
       "      <th>2022-02-28</th>\n",
       "      <td>129</td>\n",
       "    </tr>\n",
       "    <tr>\n",
       "      <th>2022-03-31</th>\n",
       "      <td>37</td>\n",
       "    </tr>\n",
       "    <tr>\n",
       "      <th>2022-04-30</th>\n",
       "      <td>182</td>\n",
       "    </tr>\n",
       "    <tr>\n",
       "      <th>2022-05-31</th>\n",
       "      <td>587</td>\n",
       "    </tr>\n",
       "    <tr>\n",
       "      <th>2022-06-30</th>\n",
       "      <td>732</td>\n",
       "    </tr>\n",
       "    <tr>\n",
       "      <th>2022-07-31</th>\n",
       "      <td>725</td>\n",
       "    </tr>\n",
       "    <tr>\n",
       "      <th>2022-08-31</th>\n",
       "      <td>319</td>\n",
       "    </tr>\n",
       "    <tr>\n",
       "      <th>2022-09-30</th>\n",
       "      <td>867</td>\n",
       "    </tr>\n",
       "    <tr>\n",
       "      <th>2022-10-31</th>\n",
       "      <td>706</td>\n",
       "    </tr>\n",
       "    <tr>\n",
       "      <th>2022-11-30</th>\n",
       "      <td>206</td>\n",
       "    </tr>\n",
       "    <tr>\n",
       "      <th>2022-12-31</th>\n",
       "      <td>218</td>\n",
       "    </tr>\n",
       "    <tr>\n",
       "      <th>2023-01-31</th>\n",
       "      <td>33</td>\n",
       "    </tr>\n",
       "    <tr>\n",
       "      <th>2023-02-28</th>\n",
       "      <td>799</td>\n",
       "    </tr>\n",
       "    <tr>\n",
       "      <th>2023-03-31</th>\n",
       "      <td>571</td>\n",
       "    </tr>\n",
       "    <tr>\n",
       "      <th>2023-04-30</th>\n",
       "      <td>125</td>\n",
       "    </tr>\n",
       "    <tr>\n",
       "      <th>2023-05-31</th>\n",
       "      <td>706</td>\n",
       "    </tr>\n",
       "    <tr>\n",
       "      <th>2023-06-30</th>\n",
       "      <td>822</td>\n",
       "    </tr>\n",
       "    <tr>\n",
       "      <th>2023-07-31</th>\n",
       "      <td>704</td>\n",
       "    </tr>\n",
       "    <tr>\n",
       "      <th>2023-08-31</th>\n",
       "      <td>530</td>\n",
       "    </tr>\n",
       "    <tr>\n",
       "      <th>2023-09-30</th>\n",
       "      <td>397</td>\n",
       "    </tr>\n",
       "    <tr>\n",
       "      <th>2023-10-31</th>\n",
       "      <td>338</td>\n",
       "    </tr>\n",
       "    <tr>\n",
       "      <th>2023-11-30</th>\n",
       "      <td>837</td>\n",
       "    </tr>\n",
       "    <tr>\n",
       "      <th>2023-12-31</th>\n",
       "      <td>379</td>\n",
       "    </tr>\n",
       "  </tbody>\n",
       "</table>\n",
       "</div>"
      ]
     },
     "execution_count": 29,
     "metadata": {},
     "output_type": "execute_result"
    }
   ],
   "execution_count": 29
  },
  {
   "metadata": {
    "ExecuteTime": {
     "end_time": "2024-09-04T17:58:32.864972Z",
     "start_time": "2024-09-04T17:58:32.854446Z"
    }
   },
   "cell_type": "code",
   "source": [
    "# Let's resample it to a 'yearly' frequency and computing the mean\n",
    "dataframe.resample(rule='YE').mean()"
   ],
   "id": "c61248f86defe9c5",
   "outputs": [
    {
     "data": {
      "text/plain": [
       "                 Sales\n",
       "2020-12-31  460.250000\n",
       "2021-12-31  538.750000\n",
       "2022-12-31  420.416667\n",
       "2023-12-31  520.083333"
      ],
      "text/html": [
       "<div>\n",
       "<style scoped>\n",
       "    .dataframe tbody tr th:only-of-type {\n",
       "        vertical-align: middle;\n",
       "    }\n",
       "\n",
       "    .dataframe tbody tr th {\n",
       "        vertical-align: top;\n",
       "    }\n",
       "\n",
       "    .dataframe thead th {\n",
       "        text-align: right;\n",
       "    }\n",
       "</style>\n",
       "<table border=\"1\" class=\"dataframe\">\n",
       "  <thead>\n",
       "    <tr style=\"text-align: right;\">\n",
       "      <th></th>\n",
       "      <th>Sales</th>\n",
       "    </tr>\n",
       "  </thead>\n",
       "  <tbody>\n",
       "    <tr>\n",
       "      <th>2020-12-31</th>\n",
       "      <td>460.250000</td>\n",
       "    </tr>\n",
       "    <tr>\n",
       "      <th>2021-12-31</th>\n",
       "      <td>538.750000</td>\n",
       "    </tr>\n",
       "    <tr>\n",
       "      <th>2022-12-31</th>\n",
       "      <td>420.416667</td>\n",
       "    </tr>\n",
       "    <tr>\n",
       "      <th>2023-12-31</th>\n",
       "      <td>520.083333</td>\n",
       "    </tr>\n",
       "  </tbody>\n",
       "</table>\n",
       "</div>"
      ]
     },
     "execution_count": 30,
     "metadata": {},
     "output_type": "execute_result"
    }
   ],
   "execution_count": 30
  },
  {
   "metadata": {},
   "cell_type": "markdown",
   "source": [
    "## Custom Resample\n",
    "\n",
    "Instead of applying standard functions like `mean()`, it is also possible to apply custom functions."
   ],
   "id": "824f914b7d2e03f9"
  },
  {
   "metadata": {
    "ExecuteTime": {
     "end_time": "2024-09-04T17:58:32.880372Z",
     "start_time": "2024-09-04T17:58:32.867913Z"
    }
   },
   "cell_type": "code",
   "source": [
    "# Create a function to return the sales x 2\n",
    "def double_sales(entry):\n",
    "    \n",
    "    return entry * 2\n",
    "\n",
    "# Let's resample it to a 'yearly' frequency and apply the 'double_sales' function\n",
    "dataframe.resample(rule='YE').mean().apply(double_sales)"
   ],
   "id": "a13cd3d5bf91225a",
   "outputs": [
    {
     "data": {
      "text/plain": [
       "                  Sales\n",
       "2020-12-31   920.500000\n",
       "2021-12-31  1077.500000\n",
       "2022-12-31   840.833333\n",
       "2023-12-31  1040.166667"
      ],
      "text/html": [
       "<div>\n",
       "<style scoped>\n",
       "    .dataframe tbody tr th:only-of-type {\n",
       "        vertical-align: middle;\n",
       "    }\n",
       "\n",
       "    .dataframe tbody tr th {\n",
       "        vertical-align: top;\n",
       "    }\n",
       "\n",
       "    .dataframe thead th {\n",
       "        text-align: right;\n",
       "    }\n",
       "</style>\n",
       "<table border=\"1\" class=\"dataframe\">\n",
       "  <thead>\n",
       "    <tr style=\"text-align: right;\">\n",
       "      <th></th>\n",
       "      <th>Sales</th>\n",
       "    </tr>\n",
       "  </thead>\n",
       "  <tbody>\n",
       "    <tr>\n",
       "      <th>2020-12-31</th>\n",
       "      <td>920.500000</td>\n",
       "    </tr>\n",
       "    <tr>\n",
       "      <th>2021-12-31</th>\n",
       "      <td>1077.500000</td>\n",
       "    </tr>\n",
       "    <tr>\n",
       "      <th>2022-12-31</th>\n",
       "      <td>840.833333</td>\n",
       "    </tr>\n",
       "    <tr>\n",
       "      <th>2023-12-31</th>\n",
       "      <td>1040.166667</td>\n",
       "    </tr>\n",
       "  </tbody>\n",
       "</table>\n",
       "</div>"
      ]
     },
     "execution_count": 31,
     "metadata": {},
     "output_type": "execute_result"
    }
   ],
   "execution_count": 31
  },
  {
   "metadata": {},
   "cell_type": "markdown",
   "source": [
    "## Shifting\n",
    "\n",
    "Shift the values of all the columns of a Pandas DataFrame by a fixed lag or a period."
   ],
   "id": "23c5e0565fb8a414"
  },
  {
   "metadata": {
    "ExecuteTime": {
     "end_time": "2024-09-04T17:58:32.895610Z",
     "start_time": "2024-09-04T17:58:32.882132Z"
    }
   },
   "cell_type": "code",
   "source": [
    "# Create a dataframe with monthly values of sales\n",
    "index = pd.date_range('01/01/2020', periods=48, freq='ME')\n",
    "values = np.random.randint(1000, size=48)\n",
    "dataframe = pd.DataFrame(values, index=index, columns=['Sales'])\n",
    "\n",
    "# Shift the values forward by one\n",
    "print(dataframe.head())\n",
    "print(dataframe.shift(1).head())"
   ],
   "id": "21c784c0ce0f48ba",
   "outputs": [
    {
     "name": "stdout",
     "output_type": "stream",
     "text": [
      "            Sales\n",
      "2020-01-31    727\n",
      "2020-02-29    595\n",
      "2020-03-31    977\n",
      "2020-04-30    598\n",
      "2020-05-31    863\n",
      "            Sales\n",
      "2020-01-31    NaN\n",
      "2020-02-29  727.0\n",
      "2020-03-31  595.0\n",
      "2020-04-30  977.0\n",
      "2020-05-31  598.0\n"
     ]
    }
   ],
   "execution_count": 32
  },
  {
   "metadata": {
    "ExecuteTime": {
     "end_time": "2024-09-04T17:58:32.905022Z",
     "start_time": "2024-09-04T17:58:32.897965Z"
    }
   },
   "cell_type": "code",
   "source": [
    "# Shift two months ahead\n",
    "print(dataframe.shift(periods=2, freq='ME').head())"
   ],
   "id": "18ef561fddcac994",
   "outputs": [
    {
     "name": "stdout",
     "output_type": "stream",
     "text": [
      "            Sales\n",
      "2020-03-31    727\n",
      "2020-04-30    595\n",
      "2020-05-31    977\n",
      "2020-06-30    598\n",
      "2020-07-31    863\n"
     ]
    }
   ],
   "execution_count": 33
  },
  {
   "metadata": {
    "ExecuteTime": {
     "end_time": "2024-09-04T17:58:32.918208Z",
     "start_time": "2024-09-04T17:58:32.906919Z"
    }
   },
   "cell_type": "code",
   "source": [
    "# Shift into the past\n",
    "dataframe.shift(-1).head(5)"
   ],
   "id": "991f499e43eac6c2",
   "outputs": [
    {
     "data": {
      "text/plain": [
       "            Sales\n",
       "2020-01-31  595.0\n",
       "2020-02-29  977.0\n",
       "2020-03-31  598.0\n",
       "2020-04-30  863.0\n",
       "2020-05-31  669.0"
      ],
      "text/html": [
       "<div>\n",
       "<style scoped>\n",
       "    .dataframe tbody tr th:only-of-type {\n",
       "        vertical-align: middle;\n",
       "    }\n",
       "\n",
       "    .dataframe tbody tr th {\n",
       "        vertical-align: top;\n",
       "    }\n",
       "\n",
       "    .dataframe thead th {\n",
       "        text-align: right;\n",
       "    }\n",
       "</style>\n",
       "<table border=\"1\" class=\"dataframe\">\n",
       "  <thead>\n",
       "    <tr style=\"text-align: right;\">\n",
       "      <th></th>\n",
       "      <th>Sales</th>\n",
       "    </tr>\n",
       "  </thead>\n",
       "  <tbody>\n",
       "    <tr>\n",
       "      <th>2020-01-31</th>\n",
       "      <td>595.0</td>\n",
       "    </tr>\n",
       "    <tr>\n",
       "      <th>2020-02-29</th>\n",
       "      <td>977.0</td>\n",
       "    </tr>\n",
       "    <tr>\n",
       "      <th>2020-03-31</th>\n",
       "      <td>598.0</td>\n",
       "    </tr>\n",
       "    <tr>\n",
       "      <th>2020-04-30</th>\n",
       "      <td>863.0</td>\n",
       "    </tr>\n",
       "    <tr>\n",
       "      <th>2020-05-31</th>\n",
       "      <td>669.0</td>\n",
       "    </tr>\n",
       "  </tbody>\n",
       "</table>\n",
       "</div>"
      ]
     },
     "execution_count": 34,
     "metadata": {},
     "output_type": "execute_result"
    }
   ],
   "execution_count": 34
  },
  {
   "metadata": {},
   "cell_type": "markdown",
   "source": [
    "## Rolling\n",
    "\n",
    "It performs some aggregation function over a rolling window.\n",
    "It useful to catch the trend for a certain window time interval (e.g., 7 days)."
   ],
   "id": "337f3502ce52ba0b"
  },
  {
   "metadata": {
    "ExecuteTime": {
     "end_time": "2024-09-04T17:58:32.926249Z",
     "start_time": "2024-09-04T17:58:32.920148Z"
    }
   },
   "cell_type": "code",
   "source": [
    "# Create a dataframe with daily values of sales\n",
    "index = pd.date_range('01/01/2020', periods=90, freq='D')\n",
    "values = np.random.randint(1000, size=90)\n",
    "dataframe = pd.DataFrame(values, index=index, columns=['Sales'])"
   ],
   "id": "41d4d045cbff071e",
   "outputs": [],
   "execution_count": 35
  },
  {
   "metadata": {
    "ExecuteTime": {
     "end_time": "2024-09-04T17:58:32.940162Z",
     "start_time": "2024-09-04T17:58:32.929567Z"
    }
   },
   "cell_type": "code",
   "source": [
    "# Compute the mean of a sliding window\n",
    "dataframe.rolling(window=7, center=True).mean()"
   ],
   "id": "8f4cdfdf7cc97af6",
   "outputs": [
    {
     "data": {
      "text/plain": [
       "                 Sales\n",
       "2020-01-01         NaN\n",
       "2020-01-02         NaN\n",
       "2020-01-03         NaN\n",
       "2020-01-04  324.714286\n",
       "2020-01-05  321.857143\n",
       "...                ...\n",
       "2020-03-26  482.142857\n",
       "2020-03-27  382.714286\n",
       "2020-03-28         NaN\n",
       "2020-03-29         NaN\n",
       "2020-03-30         NaN\n",
       "\n",
       "[90 rows x 1 columns]"
      ],
      "text/html": [
       "<div>\n",
       "<style scoped>\n",
       "    .dataframe tbody tr th:only-of-type {\n",
       "        vertical-align: middle;\n",
       "    }\n",
       "\n",
       "    .dataframe tbody tr th {\n",
       "        vertical-align: top;\n",
       "    }\n",
       "\n",
       "    .dataframe thead th {\n",
       "        text-align: right;\n",
       "    }\n",
       "</style>\n",
       "<table border=\"1\" class=\"dataframe\">\n",
       "  <thead>\n",
       "    <tr style=\"text-align: right;\">\n",
       "      <th></th>\n",
       "      <th>Sales</th>\n",
       "    </tr>\n",
       "  </thead>\n",
       "  <tbody>\n",
       "    <tr>\n",
       "      <th>2020-01-01</th>\n",
       "      <td>NaN</td>\n",
       "    </tr>\n",
       "    <tr>\n",
       "      <th>2020-01-02</th>\n",
       "      <td>NaN</td>\n",
       "    </tr>\n",
       "    <tr>\n",
       "      <th>2020-01-03</th>\n",
       "      <td>NaN</td>\n",
       "    </tr>\n",
       "    <tr>\n",
       "      <th>2020-01-04</th>\n",
       "      <td>324.714286</td>\n",
       "    </tr>\n",
       "    <tr>\n",
       "      <th>2020-01-05</th>\n",
       "      <td>321.857143</td>\n",
       "    </tr>\n",
       "    <tr>\n",
       "      <th>...</th>\n",
       "      <td>...</td>\n",
       "    </tr>\n",
       "    <tr>\n",
       "      <th>2020-03-26</th>\n",
       "      <td>482.142857</td>\n",
       "    </tr>\n",
       "    <tr>\n",
       "      <th>2020-03-27</th>\n",
       "      <td>382.714286</td>\n",
       "    </tr>\n",
       "    <tr>\n",
       "      <th>2020-03-28</th>\n",
       "      <td>NaN</td>\n",
       "    </tr>\n",
       "    <tr>\n",
       "      <th>2020-03-29</th>\n",
       "      <td>NaN</td>\n",
       "    </tr>\n",
       "    <tr>\n",
       "      <th>2020-03-30</th>\n",
       "      <td>NaN</td>\n",
       "    </tr>\n",
       "  </tbody>\n",
       "</table>\n",
       "<p>90 rows × 1 columns</p>\n",
       "</div>"
      ]
     },
     "execution_count": 36,
     "metadata": {},
     "output_type": "execute_result"
    }
   ],
   "execution_count": 36
  },
  {
   "metadata": {
    "ExecuteTime": {
     "end_time": "2024-09-04T17:58:32.951682Z",
     "start_time": "2024-09-04T17:58:32.942633Z"
    }
   },
   "cell_type": "code",
   "source": [
    "# The first value is exactly the mean of the first 7 days\n",
    "# The value is placed then at the center of the window (202-01-04)\n",
    "dataframe.iloc[:7, :].mean().rename('mean')"
   ],
   "id": "a72ace89593d52ca",
   "outputs": [
    {
     "data": {
      "text/plain": [
       "Sales    324.714286\n",
       "Name: mean, dtype: float64"
      ]
     },
     "execution_count": 37,
     "metadata": {},
     "output_type": "execute_result"
    }
   ],
   "execution_count": 37
  },
  {
   "metadata": {},
   "cell_type": "markdown",
   "source": [
    "## Expanding\n",
    "\n",
    "It performs an aggregation operation between rows in a specific window size."
   ],
   "id": "80af1ab96c43b116"
  },
  {
   "metadata": {
    "ExecuteTime": {
     "end_time": "2024-09-04T17:58:32.959712Z",
     "start_time": "2024-09-04T17:58:32.953593Z"
    }
   },
   "cell_type": "code",
   "source": [
    "# Create a dataframe with daily values of sales\n",
    "index = pd.date_range('01/01/2020', periods=90, freq='D')\n",
    "values = np.random.randint(1000, size=90)\n",
    "dataframe = pd.DataFrame(values, index=index, columns=['Sales'])"
   ],
   "id": "15a210ffb5ab5bf",
   "outputs": [],
   "execution_count": 38
  },
  {
   "metadata": {
    "ExecuteTime": {
     "end_time": "2024-09-04T17:58:32.973088Z",
     "start_time": "2024-09-04T17:58:32.962496Z"
    }
   },
   "cell_type": "code",
   "source": "dataframe.iloc[:3, :]",
   "id": "6e21be61cb9a33dc",
   "outputs": [
    {
     "data": {
      "text/plain": [
       "            Sales\n",
       "2020-01-01    638\n",
       "2020-01-02    677\n",
       "2020-01-03    400"
      ],
      "text/html": [
       "<div>\n",
       "<style scoped>\n",
       "    .dataframe tbody tr th:only-of-type {\n",
       "        vertical-align: middle;\n",
       "    }\n",
       "\n",
       "    .dataframe tbody tr th {\n",
       "        vertical-align: top;\n",
       "    }\n",
       "\n",
       "    .dataframe thead th {\n",
       "        text-align: right;\n",
       "    }\n",
       "</style>\n",
       "<table border=\"1\" class=\"dataframe\">\n",
       "  <thead>\n",
       "    <tr style=\"text-align: right;\">\n",
       "      <th></th>\n",
       "      <th>Sales</th>\n",
       "    </tr>\n",
       "  </thead>\n",
       "  <tbody>\n",
       "    <tr>\n",
       "      <th>2020-01-01</th>\n",
       "      <td>638</td>\n",
       "    </tr>\n",
       "    <tr>\n",
       "      <th>2020-01-02</th>\n",
       "      <td>677</td>\n",
       "    </tr>\n",
       "    <tr>\n",
       "      <th>2020-01-03</th>\n",
       "      <td>400</td>\n",
       "    </tr>\n",
       "  </tbody>\n",
       "</table>\n",
       "</div>"
      ]
     },
     "execution_count": 39,
     "metadata": {},
     "output_type": "execute_result"
    }
   ],
   "execution_count": 39
  },
  {
   "metadata": {
    "ExecuteTime": {
     "end_time": "2024-09-04T17:58:32.987670Z",
     "start_time": "2024-09-04T17:58:32.975894Z"
    }
   },
   "cell_type": "code",
   "source": "dataframe.expanding().sum().iloc[:3, :]",
   "id": "a8b7e3841de35463",
   "outputs": [
    {
     "data": {
      "text/plain": [
       "             Sales\n",
       "2020-01-01   638.0\n",
       "2020-01-02  1315.0\n",
       "2020-01-03  1715.0"
      ],
      "text/html": [
       "<div>\n",
       "<style scoped>\n",
       "    .dataframe tbody tr th:only-of-type {\n",
       "        vertical-align: middle;\n",
       "    }\n",
       "\n",
       "    .dataframe tbody tr th {\n",
       "        vertical-align: top;\n",
       "    }\n",
       "\n",
       "    .dataframe thead th {\n",
       "        text-align: right;\n",
       "    }\n",
       "</style>\n",
       "<table border=\"1\" class=\"dataframe\">\n",
       "  <thead>\n",
       "    <tr style=\"text-align: right;\">\n",
       "      <th></th>\n",
       "      <th>Sales</th>\n",
       "    </tr>\n",
       "  </thead>\n",
       "  <tbody>\n",
       "    <tr>\n",
       "      <th>2020-01-01</th>\n",
       "      <td>638.0</td>\n",
       "    </tr>\n",
       "    <tr>\n",
       "      <th>2020-01-02</th>\n",
       "      <td>1315.0</td>\n",
       "    </tr>\n",
       "    <tr>\n",
       "      <th>2020-01-03</th>\n",
       "      <td>1715.0</td>\n",
       "    </tr>\n",
       "  </tbody>\n",
       "</table>\n",
       "</div>"
      ]
     },
     "execution_count": 40,
     "metadata": {},
     "output_type": "execute_result"
    }
   ],
   "execution_count": 40
  },
  {
   "metadata": {
    "ExecuteTime": {
     "end_time": "2024-09-04T17:58:33.002732Z",
     "start_time": "2024-09-04T17:58:32.991900Z"
    }
   },
   "cell_type": "code",
   "source": "dataframe.iloc[:2, :].sum()",
   "id": "ba42a17996b6653b",
   "outputs": [
    {
     "data": {
      "text/plain": [
       "Sales    1315\n",
       "dtype: int64"
      ]
     },
     "execution_count": 41,
     "metadata": {},
     "output_type": "execute_result"
    }
   ],
   "execution_count": 41
  },
  {
   "metadata": {},
   "cell_type": "markdown",
   "source": [
    "## Division over Columns\n",
    "\n",
    "Divide one column value by the same row value of another column"
   ],
   "id": "3cf62e01bcfd4bfe"
  },
  {
   "metadata": {
    "ExecuteTime": {
     "end_time": "2024-09-04T19:44:56.108280Z",
     "start_time": "2024-09-04T19:44:56.103267Z"
    }
   },
   "cell_type": "code",
   "source": [
    "# Create a dataframe\n",
    "index = pd.date_range('01/01/2020', periods=5, freq='MS')\n",
    "values = np.linspace(0, 120, 5)\n",
    "dataframe = pd.DataFrame(values, index=index, columns=['Sales'])"
   ],
   "id": "8e9a563dc3cdff12",
   "outputs": [],
   "execution_count": 54
  },
  {
   "metadata": {
    "ExecuteTime": {
     "end_time": "2024-09-04T19:44:56.432768Z",
     "start_time": "2024-09-04T19:44:56.423538Z"
    }
   },
   "cell_type": "code",
   "source": [
    "# Compute shifted column\n",
    "dataframe['Shifted_1'] = dataframe['Sales'].shift(-1)\n",
    "\n",
    "# Compute the division\n",
    "dataframe['Change'] = dataframe['Sales'].div(dataframe['Shifted_1'])\n",
    "\n",
    "dataframe.head(5)"
   ],
   "id": "da4a77ca893f52d6",
   "outputs": [
    {
     "data": {
      "text/plain": [
       "            Sales  Shifted_1    Change\n",
       "2020-01-01    0.0       30.0  0.000000\n",
       "2020-02-01   30.0       60.0  0.500000\n",
       "2020-03-01   60.0       90.0  0.666667\n",
       "2020-04-01   90.0      120.0  0.750000\n",
       "2020-05-01  120.0        NaN       NaN"
      ],
      "text/html": [
       "<div>\n",
       "<style scoped>\n",
       "    .dataframe tbody tr th:only-of-type {\n",
       "        vertical-align: middle;\n",
       "    }\n",
       "\n",
       "    .dataframe tbody tr th {\n",
       "        vertical-align: top;\n",
       "    }\n",
       "\n",
       "    .dataframe thead th {\n",
       "        text-align: right;\n",
       "    }\n",
       "</style>\n",
       "<table border=\"1\" class=\"dataframe\">\n",
       "  <thead>\n",
       "    <tr style=\"text-align: right;\">\n",
       "      <th></th>\n",
       "      <th>Sales</th>\n",
       "      <th>Shifted_1</th>\n",
       "      <th>Change</th>\n",
       "    </tr>\n",
       "  </thead>\n",
       "  <tbody>\n",
       "    <tr>\n",
       "      <th>2020-01-01</th>\n",
       "      <td>0.0</td>\n",
       "      <td>30.0</td>\n",
       "      <td>0.000000</td>\n",
       "    </tr>\n",
       "    <tr>\n",
       "      <th>2020-02-01</th>\n",
       "      <td>30.0</td>\n",
       "      <td>60.0</td>\n",
       "      <td>0.500000</td>\n",
       "    </tr>\n",
       "    <tr>\n",
       "      <th>2020-03-01</th>\n",
       "      <td>60.0</td>\n",
       "      <td>90.0</td>\n",
       "      <td>0.666667</td>\n",
       "    </tr>\n",
       "    <tr>\n",
       "      <th>2020-04-01</th>\n",
       "      <td>90.0</td>\n",
       "      <td>120.0</td>\n",
       "      <td>0.750000</td>\n",
       "    </tr>\n",
       "    <tr>\n",
       "      <th>2020-05-01</th>\n",
       "      <td>120.0</td>\n",
       "      <td>NaN</td>\n",
       "      <td>NaN</td>\n",
       "    </tr>\n",
       "  </tbody>\n",
       "</table>\n",
       "</div>"
      ]
     },
     "execution_count": 55,
     "metadata": {},
     "output_type": "execute_result"
    }
   ],
   "execution_count": 55
  },
  {
   "metadata": {},
   "cell_type": "markdown",
   "source": [
    "## Differencing\n",
    "\n",
    "It computes the difference between the value of the column `x` of row `t` and the value of the column `x` of row `t-1`."
   ],
   "id": "c3a08f76e82cfd57"
  },
  {
   "metadata": {
    "ExecuteTime": {
     "end_time": "2024-09-04T19:47:12.886902Z",
     "start_time": "2024-09-04T19:47:12.875678Z"
    }
   },
   "cell_type": "code",
   "source": [
    "# Compute the value difference between one row value and the one before\n",
    "dataframe['Difference'] = dataframe['Sales'].diff()\n",
    "\n",
    "dataframe[['Sales', \"Difference\"]].head(5)"
   ],
   "id": "785f7c34c51dc05f",
   "outputs": [
    {
     "data": {
      "text/plain": [
       "            Sales  Difference\n",
       "2020-01-01    0.0         NaN\n",
       "2020-02-01   30.0        30.0\n",
       "2020-03-01   60.0        30.0\n",
       "2020-04-01   90.0        30.0\n",
       "2020-05-01  120.0        30.0"
      ],
      "text/html": [
       "<div>\n",
       "<style scoped>\n",
       "    .dataframe tbody tr th:only-of-type {\n",
       "        vertical-align: middle;\n",
       "    }\n",
       "\n",
       "    .dataframe tbody tr th {\n",
       "        vertical-align: top;\n",
       "    }\n",
       "\n",
       "    .dataframe thead th {\n",
       "        text-align: right;\n",
       "    }\n",
       "</style>\n",
       "<table border=\"1\" class=\"dataframe\">\n",
       "  <thead>\n",
       "    <tr style=\"text-align: right;\">\n",
       "      <th></th>\n",
       "      <th>Sales</th>\n",
       "      <th>Difference</th>\n",
       "    </tr>\n",
       "  </thead>\n",
       "  <tbody>\n",
       "    <tr>\n",
       "      <th>2020-01-01</th>\n",
       "      <td>0.0</td>\n",
       "      <td>NaN</td>\n",
       "    </tr>\n",
       "    <tr>\n",
       "      <th>2020-02-01</th>\n",
       "      <td>30.0</td>\n",
       "      <td>30.0</td>\n",
       "    </tr>\n",
       "    <tr>\n",
       "      <th>2020-03-01</th>\n",
       "      <td>60.0</td>\n",
       "      <td>30.0</td>\n",
       "    </tr>\n",
       "    <tr>\n",
       "      <th>2020-04-01</th>\n",
       "      <td>90.0</td>\n",
       "      <td>30.0</td>\n",
       "    </tr>\n",
       "    <tr>\n",
       "      <th>2020-05-01</th>\n",
       "      <td>120.0</td>\n",
       "      <td>30.0</td>\n",
       "    </tr>\n",
       "  </tbody>\n",
       "</table>\n",
       "</div>"
      ]
     },
     "execution_count": 59,
     "metadata": {},
     "output_type": "execute_result"
    }
   ],
   "execution_count": 59
  },
  {
   "metadata": {},
   "cell_type": "markdown",
   "source": [
    "## Percentage Change\n",
    "\n",
    "It computes the percentage difference between the value of the column `x` of row `t` and the value of the column `x` of row `t-1`."
   ],
   "id": "cd32b23bfff9ae75"
  },
  {
   "metadata": {
    "ExecuteTime": {
     "end_time": "2024-09-04T19:49:11.072129Z",
     "start_time": "2024-09-04T19:49:11.059898Z"
    }
   },
   "cell_type": "code",
   "source": [
    "# Compute the value difference in percentage between one row value and the one before\n",
    "dataframe['Percentage Change'] = dataframe['Sales'].pct_change().mul(100)\n",
    "\n",
    "dataframe[['Sales', \"Percentage Change\"]].head(5)"
   ],
   "id": "3e7e16bf6fe51bbb",
   "outputs": [
    {
     "data": {
      "text/plain": [
       "            Sales  Percentage Change\n",
       "2020-01-01    0.0                NaN\n",
       "2020-02-01   30.0                inf\n",
       "2020-03-01   60.0         100.000000\n",
       "2020-04-01   90.0          50.000000\n",
       "2020-05-01  120.0          33.333333"
      ],
      "text/html": [
       "<div>\n",
       "<style scoped>\n",
       "    .dataframe tbody tr th:only-of-type {\n",
       "        vertical-align: middle;\n",
       "    }\n",
       "\n",
       "    .dataframe tbody tr th {\n",
       "        vertical-align: top;\n",
       "    }\n",
       "\n",
       "    .dataframe thead th {\n",
       "        text-align: right;\n",
       "    }\n",
       "</style>\n",
       "<table border=\"1\" class=\"dataframe\">\n",
       "  <thead>\n",
       "    <tr style=\"text-align: right;\">\n",
       "      <th></th>\n",
       "      <th>Sales</th>\n",
       "      <th>Percentage Change</th>\n",
       "    </tr>\n",
       "  </thead>\n",
       "  <tbody>\n",
       "    <tr>\n",
       "      <th>2020-01-01</th>\n",
       "      <td>0.0</td>\n",
       "      <td>NaN</td>\n",
       "    </tr>\n",
       "    <tr>\n",
       "      <th>2020-02-01</th>\n",
       "      <td>30.0</td>\n",
       "      <td>inf</td>\n",
       "    </tr>\n",
       "    <tr>\n",
       "      <th>2020-03-01</th>\n",
       "      <td>60.0</td>\n",
       "      <td>100.000000</td>\n",
       "    </tr>\n",
       "    <tr>\n",
       "      <th>2020-04-01</th>\n",
       "      <td>90.0</td>\n",
       "      <td>50.000000</td>\n",
       "    </tr>\n",
       "    <tr>\n",
       "      <th>2020-05-01</th>\n",
       "      <td>120.0</td>\n",
       "      <td>33.333333</td>\n",
       "    </tr>\n",
       "  </tbody>\n",
       "</table>\n",
       "</div>"
      ]
     },
     "execution_count": 60,
     "metadata": {},
     "output_type": "execute_result"
    }
   ],
   "execution_count": 60
  },
  {
   "metadata": {
    "ExecuteTime": {
     "end_time": "2024-09-04T19:50:25.239713Z",
     "start_time": "2024-09-04T19:50:25.226177Z"
    }
   },
   "cell_type": "code",
   "source": [
    "# Compute the value difference in percentage between one row value and the one before 3 periods before\n",
    "dataframe['Percentage Change 3 Months'] = dataframe['Sales'].pct_change(periods=3).mul(100)\n",
    "\n",
    "dataframe[['Sales', \"Percentage Change 3 Months\"]].head(5)"
   ],
   "id": "2bbf60b3129561b0",
   "outputs": [
    {
     "data": {
      "text/plain": [
       "            Sales  Percentage Change 3 Months\n",
       "2020-01-01    0.0                         NaN\n",
       "2020-02-01   30.0                         NaN\n",
       "2020-03-01   60.0                         NaN\n",
       "2020-04-01   90.0                         inf\n",
       "2020-05-01  120.0                       300.0"
      ],
      "text/html": [
       "<div>\n",
       "<style scoped>\n",
       "    .dataframe tbody tr th:only-of-type {\n",
       "        vertical-align: middle;\n",
       "    }\n",
       "\n",
       "    .dataframe tbody tr th {\n",
       "        vertical-align: top;\n",
       "    }\n",
       "\n",
       "    .dataframe thead th {\n",
       "        text-align: right;\n",
       "    }\n",
       "</style>\n",
       "<table border=\"1\" class=\"dataframe\">\n",
       "  <thead>\n",
       "    <tr style=\"text-align: right;\">\n",
       "      <th></th>\n",
       "      <th>Sales</th>\n",
       "      <th>Percentage Change 3 Months</th>\n",
       "    </tr>\n",
       "  </thead>\n",
       "  <tbody>\n",
       "    <tr>\n",
       "      <th>2020-01-01</th>\n",
       "      <td>0.0</td>\n",
       "      <td>NaN</td>\n",
       "    </tr>\n",
       "    <tr>\n",
       "      <th>2020-02-01</th>\n",
       "      <td>30.0</td>\n",
       "      <td>NaN</td>\n",
       "    </tr>\n",
       "    <tr>\n",
       "      <th>2020-03-01</th>\n",
       "      <td>60.0</td>\n",
       "      <td>NaN</td>\n",
       "    </tr>\n",
       "    <tr>\n",
       "      <th>2020-04-01</th>\n",
       "      <td>90.0</td>\n",
       "      <td>inf</td>\n",
       "    </tr>\n",
       "    <tr>\n",
       "      <th>2020-05-01</th>\n",
       "      <td>120.0</td>\n",
       "      <td>300.0</td>\n",
       "    </tr>\n",
       "  </tbody>\n",
       "</table>\n",
       "</div>"
      ]
     },
     "execution_count": 61,
     "metadata": {},
     "output_type": "execute_result"
    }
   ],
   "execution_count": 61
  },
  {
   "metadata": {},
   "cell_type": "markdown",
   "source": "- The 300% ie because the 300% of 30.0 is 120.0",
   "id": "f212a00cfdd5d3a3"
  }
 ],
 "metadata": {
  "kernelspec": {
   "display_name": "timewarpforecast",
   "language": "python",
   "name": "timewarpforecast"
  },
  "language_info": {
   "codemirror_mode": {
    "name": "ipython",
    "version": 2
   },
   "file_extension": ".py",
   "mimetype": "text/x-python",
   "name": "python",
   "nbconvert_exporter": "python",
   "pygments_lexer": "ipython2",
   "version": "2.7.6"
  }
 },
 "nbformat": 4,
 "nbformat_minor": 5
}
