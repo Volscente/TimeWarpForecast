{
 "cells": [
  {
   "metadata": {},
   "cell_type": "markdown",
   "source": [
    "# Pandas Code Utils\n",
    "\n",
    "The Notebooks include different code utils in Pandas for Time Series."
   ],
   "id": "a39a738e265d9080"
  },
  {
   "metadata": {
    "ExecuteTime": {
     "end_time": "2024-07-19T19:52:17.735099Z",
     "start_time": "2024-07-19T19:52:15.974814Z"
    }
   },
   "cell_type": "code",
   "source": [
    "# Import Standard Libraries\n",
    "import pandas as pd"
   ],
   "id": "192d26120c9227da",
   "outputs": [],
   "execution_count": 1
  },
  {
   "metadata": {},
   "cell_type": "markdown",
   "source": "# DateTimeIndex",
   "id": "b0b7341764f9d0a2"
  },
  {
   "metadata": {},
   "cell_type": "markdown",
   "source": [
    "## Date Range\n",
    "\n",
    "It creates a range of dates from the specified origin, across the given period with a certain frequency."
   ],
   "id": "76e8e90c25645dc3"
  },
  {
   "metadata": {
    "ExecuteTime": {
     "end_time": "2024-07-19T19:53:28.387115Z",
     "start_time": "2024-07-19T19:53:28.373059Z"
    }
   },
   "cell_type": "code",
   "source": [
    "# From 01/01/2020 to 07/01/2020 every day\n",
    "pd.date_range('2020-01-01', periods=7, freq='D')"
   ],
   "id": "f96dd3b68fe2a543",
   "outputs": [
    {
     "data": {
      "text/plain": [
       "DatetimeIndex(['2020-01-01', '2020-01-02', '2020-01-03', '2020-01-04',\n",
       "               '2020-01-05', '2020-01-06', '2020-01-07'],\n",
       "              dtype='datetime64[ns]', freq='D')"
      ]
     },
     "execution_count": 2,
     "metadata": {},
     "output_type": "execute_result"
    }
   ],
   "execution_count": 2
  },
  {
   "metadata": {},
   "cell_type": "markdown",
   "source": [
    "## To Datetime\n",
    "\n",
    "Transform the given values into `datetime` data type."
   ],
   "id": "82daa5c66c70fb3b"
  },
  {
   "metadata": {
    "ExecuteTime": {
     "end_time": "2024-07-19T19:55:39.755437Z",
     "start_time": "2024-07-19T19:55:39.743431Z"
    }
   },
   "cell_type": "code",
   "source": [
    "# Transform values into datetime\n",
    "pd.to_datetime(['01/02/2018', 'Jan 03, 2018'], format='mixed')"
   ],
   "id": "3fa3ed5bff38ffa5",
   "outputs": [
    {
     "data": {
      "text/plain": [
       "DatetimeIndex(['2018-01-02', '2018-01-03'], dtype='datetime64[ns]', freq=None)"
      ]
     },
     "execution_count": 5,
     "metadata": {},
     "output_type": "execute_result"
    }
   ],
   "execution_count": 5
  }
 ],
 "metadata": {
  "kernelspec": {
   "display_name": "timewarpforecast",
   "language": "python",
   "name": "timewarpforecast"
  },
  "language_info": {
   "codemirror_mode": {
    "name": "ipython",
    "version": 2
   },
   "file_extension": ".py",
   "mimetype": "text/x-python",
   "name": "python",
   "nbconvert_exporter": "python",
   "pygments_lexer": "ipython2",
   "version": "2.7.6"
  }
 },
 "nbformat": 4,
 "nbformat_minor": 5
}
