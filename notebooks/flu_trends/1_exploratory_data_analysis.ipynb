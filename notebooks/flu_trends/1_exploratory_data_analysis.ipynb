{
 "cells": [
  {
   "metadata": {},
   "cell_type": "markdown",
   "source": [
    "# Flu Trends - Exploratory Data Analysis\n",
    "\n",
    "Explore the dataset `flu_trends.csv` to uncover trends, seasonality and other hidden patterns within the data."
   ],
   "id": "5dfd7acc2a950e79"
  },
  {
   "metadata": {},
   "cell_type": "markdown",
   "source": "# Setup Notebook",
   "id": "32748cd13ab0e054"
  },
  {
   "metadata": {},
   "cell_type": "markdown",
   "source": "## Import",
   "id": "292e260fdcb4db99"
  },
  {
   "metadata": {
    "ExecuteTime": {
     "end_time": "2024-06-12T13:32:15.860873Z",
     "start_time": "2024-06-12T13:32:15.855192Z"
    }
   },
   "cell_type": "code",
   "source": [
    "# Import Standard Libraries\n",
    "import pandas as pd\n",
    "from pathlib import Path\n",
    "import os\n",
    "\n",
    "# Import Package Modules\n",
    "from src.general_utils.general_utils import (\n",
    "    read_configuration, \n",
    "    read_data_from_config\n",
    ")"
   ],
   "id": "1225a5b4f94d131b",
   "outputs": [],
   "execution_count": 6
  },
  {
   "metadata": {},
   "cell_type": "markdown",
   "source": "# Define Configuration",
   "id": "11bde697b34a4754"
  },
  {
   "metadata": {
    "ExecuteTime": {
     "end_time": "2024-06-12T13:32:28.826733Z",
     "start_time": "2024-06-12T13:32:28.815787Z"
    }
   },
   "cell_type": "code",
   "source": [
    "# Retrieve root path\n",
    "root_path = Path(os.getcwd()).parents[1]\n",
    "\n",
    "# Read configuration variables\n",
    "config = read_configuration(root_path / 'configuration' / 'flu_trends_config.yaml')\n",
    "\n",
    "# Extract configuration variables\n",
    "dataset_config = config['dataset_config']"
   ],
   "id": "47393a200a30a0c7",
   "outputs": [
    {
     "name": "stdout",
     "output_type": "stream",
     "text": [
      "[06/12/2024 15:32:28 - general_utils] INFO - read_configuration - Start\n",
      "[06/12/2024 15:32:28 - general_utils] INFO - read_configuration - Reading /Users/s.porreca/Projects/TimeWarpForecast/configuration/flu_trends_config.yaml\n",
      "[06/12/2024 15:32:28 - general_utils] INFO - read_configuration - Configuration file /Users/s.porreca/Projects/TimeWarpForecast/configuration/flu_trends_config.yaml read successfully\n",
      "[06/12/2024 15:32:28 - general_utils] INFO - read_configuration - End\n"
     ]
    }
   ],
   "execution_count": 8
  },
  {
   "metadata": {},
   "cell_type": "markdown",
   "source": "# Read Data",
   "id": "39a6c55af56932a1"
  },
  {
   "metadata": {},
   "cell_type": "code",
   "outputs": [],
   "execution_count": null,
   "source": "",
   "id": "139a5b73afc73be1"
  }
 ],
 "metadata": {
  "kernelspec": {
   "display_name": "timewarpforecast",
   "language": "python",
   "name": "timewarpforecast"
  },
  "language_info": {
   "codemirror_mode": {
    "name": "ipython",
    "version": 2
   },
   "file_extension": ".py",
   "mimetype": "text/x-python",
   "name": "python",
   "nbconvert_exporter": "python",
   "pygments_lexer": "ipython2",
   "version": "2.7.6"
  }
 },
 "nbformat": 4,
 "nbformat_minor": 5
}
