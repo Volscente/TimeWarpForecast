{
 "cells": [
  {
   "metadata": {},
   "cell_type": "markdown",
   "source": [
    "# Flu Trends - Exploratory Data Analysis\n",
    "\n",
    "Explore the dataset `flu_trends.csv` to uncover trends, seasonality and other hidden patterns within the data."
   ],
   "id": "5dfd7acc2a950e79"
  },
  {
   "metadata": {},
   "cell_type": "markdown",
   "source": "# Setup Notebook",
   "id": "32748cd13ab0e054"
  },
  {
   "metadata": {},
   "cell_type": "markdown",
   "source": "## Import",
   "id": "292e260fdcb4db99"
  },
  {
   "metadata": {
    "ExecuteTime": {
     "end_time": "2024-06-12T13:32:15.860873Z",
     "start_time": "2024-06-12T13:32:15.855192Z"
    }
   },
   "cell_type": "code",
   "source": [
    "# Import Standard Libraries\n",
    "import pandas as pd\n",
    "from pathlib import Path\n",
    "import os\n",
    "\n",
    "# Import Package Modules\n",
    "from src.general_utils.general_utils import (\n",
    "    read_configuration, \n",
    "    read_data_from_config\n",
    ")"
   ],
   "id": "1225a5b4f94d131b",
   "outputs": [],
   "execution_count": 6
  },
  {
   "metadata": {},
   "cell_type": "markdown",
   "source": "# Define Configuration",
   "id": "11bde697b34a4754"
  },
  {
   "metadata": {
    "ExecuteTime": {
     "end_time": "2024-06-12T13:32:28.826733Z",
     "start_time": "2024-06-12T13:32:28.815787Z"
    }
   },
   "cell_type": "code",
   "source": [
    "# Retrieve root path\n",
    "root_path = Path(os.getcwd()).parents[1]\n",
    "\n",
    "# Read configuration variables\n",
    "config = read_configuration(root_path / 'configuration' / 'flu_trends_config.yaml')\n",
    "\n",
    "# Extract configuration variables\n",
    "dataset_config = config['dataset_config']"
   ],
   "id": "47393a200a30a0c7",
   "outputs": [
    {
     "name": "stdout",
     "output_type": "stream",
     "text": [
      "[06/12/2024 15:32:28 - general_utils] INFO - read_configuration - Start\n",
      "[06/12/2024 15:32:28 - general_utils] INFO - read_configuration - Reading /Users/s.porreca/Projects/TimeWarpForecast/configuration/flu_trends_config.yaml\n",
      "[06/12/2024 15:32:28 - general_utils] INFO - read_configuration - Configuration file /Users/s.porreca/Projects/TimeWarpForecast/configuration/flu_trends_config.yaml read successfully\n",
      "[06/12/2024 15:32:28 - general_utils] INFO - read_configuration - End\n"
     ]
    }
   ],
   "execution_count": 8
  },
  {
   "metadata": {},
   "cell_type": "markdown",
   "source": "# Read Data",
   "id": "39a6c55af56932a1"
  },
  {
   "metadata": {
    "ExecuteTime": {
     "end_time": "2024-06-12T13:44:12.044930Z",
     "start_time": "2024-06-12T13:44:12.003842Z"
    }
   },
   "cell_type": "code",
   "source": [
    "# Read dataset\n",
    "data = read_data_from_config(dataset_config)"
   ],
   "id": "139a5b73afc73be1",
   "outputs": [
    {
     "name": "stdout",
     "output_type": "stream",
     "text": [
      "[06/12/2024 15:44:12 - general_utils] INFO - read_data_from_config - Start\n",
      "[06/12/2024 15:44:12 - general_utils] INFO - read_data_from_config - Retrieve data path\n",
      "[06/12/2024 15:44:12 - general_utils] INFO - build_path_from_list - Start\n",
      "[06/12/2024 15:44:12 - general_utils] INFO - build_path_from_list - Retrieve root path to the project folder\n",
      "[06/12/2024 15:44:12 - general_utils] INFO - build_path_from_list - Build the absolute path\n",
      "[06/12/2024 15:44:12 - general_utils] INFO - build_path_from_list - End\n",
      "[06/12/2024 15:44:12 - general_utils] INFO - read_data_from_config - Retrieved data path /Users/s.porreca/Projects/TimeWarpForecast/data/raw/flu_trends.csv\n",
      "[06/12/2024 15:44:12 - general_utils] INFO - read_data_from_config - Reading data\n"
     ]
    },
    {
     "ename": "KeyError",
     "evalue": "'date_columns'",
     "output_type": "error",
     "traceback": [
      "\u001B[0;31m---------------------------------------------------------------------------\u001B[0m",
      "\u001B[0;31mKeyError\u001B[0m                                  Traceback (most recent call last)",
      "Cell \u001B[0;32mIn[9], line 2\u001B[0m\n\u001B[1;32m      1\u001B[0m \u001B[38;5;66;03m# Read dataset\u001B[39;00m\n\u001B[0;32m----> 2\u001B[0m data \u001B[38;5;241m=\u001B[39m \u001B[43mread_data_from_config\u001B[49m\u001B[43m(\u001B[49m\u001B[43mdataset_config\u001B[49m\u001B[43m)\u001B[49m\n",
      "File \u001B[0;32m~/Projects/TimeWarpForecast/src/general_utils/general_utils.py:122\u001B[0m, in \u001B[0;36mread_data_from_config\u001B[0;34m(data_config)\u001B[0m\n\u001B[1;32m    117\u001B[0m logger\u001B[38;5;241m.\u001B[39minfo(\u001B[38;5;124m'\u001B[39m\u001B[38;5;124mread_data_from_config - Reading data\u001B[39m\u001B[38;5;124m'\u001B[39m)\n\u001B[1;32m    119\u001B[0m \u001B[38;5;66;03m# Read data with Pandas\u001B[39;00m\n\u001B[1;32m    120\u001B[0m data \u001B[38;5;241m=\u001B[39m pd\u001B[38;5;241m.\u001B[39mread_csv(data_path,\n\u001B[1;32m    121\u001B[0m                    sep\u001B[38;5;241m=\u001B[39mdata_config[\u001B[38;5;124m'\u001B[39m\u001B[38;5;124mdelimiter\u001B[39m\u001B[38;5;124m'\u001B[39m],\n\u001B[0;32m--> 122\u001B[0m                    parse_dates\u001B[38;5;241m=\u001B[39m\u001B[43mdata_config\u001B[49m\u001B[43m[\u001B[49m\u001B[38;5;124;43m'\u001B[39;49m\u001B[38;5;124;43mdate_columns\u001B[39;49m\u001B[38;5;124;43m'\u001B[39;49m\u001B[43m]\u001B[49m)\n\u001B[1;32m    124\u001B[0m logger\u001B[38;5;241m.\u001B[39minfo(\u001B[38;5;124m'\u001B[39m\u001B[38;5;124mread_data_from_config - Successfully read data with \u001B[39m\u001B[38;5;132;01m%s\u001B[39;00m\u001B[38;5;124m rows and \u001B[39m\u001B[38;5;132;01m%s\u001B[39;00m\u001B[38;5;124m columns\u001B[39m\u001B[38;5;124m'\u001B[39m,\n\u001B[1;32m    125\u001B[0m             \u001B[38;5;28mlen\u001B[39m(data), \u001B[38;5;28mlen\u001B[39m(data\u001B[38;5;241m.\u001B[39mcolumns))\n\u001B[1;32m    127\u001B[0m logger\u001B[38;5;241m.\u001B[39minfo(\u001B[38;5;124m'\u001B[39m\u001B[38;5;124mread_data_from_config - End\u001B[39m\u001B[38;5;124m'\u001B[39m)\n",
      "\u001B[0;31mKeyError\u001B[0m: 'date_columns'"
     ]
    }
   ],
   "execution_count": 9
  }
 ],
 "metadata": {
  "kernelspec": {
   "display_name": "timewarpforecast",
   "language": "python",
   "name": "timewarpforecast"
  },
  "language_info": {
   "codemirror_mode": {
    "name": "ipython",
    "version": 2
   },
   "file_extension": ".py",
   "mimetype": "text/x-python",
   "name": "python",
   "nbconvert_exporter": "python",
   "pygments_lexer": "ipython2",
   "version": "2.7.6"
  }
 },
 "nbformat": 4,
 "nbformat_minor": 5
}
