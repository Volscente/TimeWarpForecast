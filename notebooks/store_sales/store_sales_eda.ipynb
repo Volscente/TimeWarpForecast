{
 "cells": [
  {
   "metadata": {},
   "cell_type": "markdown",
   "source": [
    "# Store Sales - Exploratory Data Analysis (EDA)\n",
    "\n",
    "The notebook is intended to explore the Time Series contained in `data/store_sales`.\n",
    "\n",
    "**NOTE:** Ensure to download also the `train.csv` from the following Kaggle Competition: [Stores Sales - Time Series Forecasting](https://www.kaggle.com/competitions/store-sales-time-series-forecasting/data)."
   ],
   "id": "e208b13e7774bad2"
  },
  {
   "metadata": {},
   "cell_type": "markdown",
   "source": "# Setup Notebook",
   "id": "3618d9ba296616e3"
  },
  {
   "metadata": {},
   "cell_type": "markdown",
   "source": "## Imports",
   "id": "c2c86d3916ba9e14"
  },
  {
   "metadata": {
    "ExecuteTime": {
     "end_time": "2024-09-05T20:13:25.007792Z",
     "start_time": "2024-09-05T20:13:24.554989Z"
    }
   },
   "cell_type": "code",
   "source": [
    "# Import Standard Libraries\n",
    "from pathlib import Path\n",
    "from dynaconf import Dynaconf\n",
    "import os\n",
    "\n",
    "# Import Package Modules"
   ],
   "id": "b4f8864db3969444",
   "outputs": [],
   "execution_count": 1
  },
  {
   "metadata": {},
   "cell_type": "markdown",
   "source": "## Define Configurations",
   "id": "42f22969fc4b20e3"
  },
  {
   "metadata": {
    "ExecuteTime": {
     "end_time": "2024-09-05T20:22:43.599975Z",
     "start_time": "2024-09-05T20:22:43.594383Z"
    }
   },
   "cell_type": "code",
   "source": [
    "# Retrieve root path\n",
    "root_path = Path(os.getcwd()).parents[1]\n",
    "\n",
    "# Read configuration\n",
    "config = Dynaconf(settings_files=[root_path / 'configuration' / 'store_sales_config.toml'], environment=True, env='eda')"
   ],
   "id": "ef47ba4378409641",
   "outputs": [],
   "execution_count": 23
  },
  {
   "metadata": {},
   "cell_type": "markdown",
   "source": "# Read Data",
   "id": "96c35b4b10e9093b"
  },
  {
   "metadata": {},
   "cell_type": "code",
   "outputs": [],
   "execution_count": null,
   "source": "# Read data",
   "id": "906986e640835235"
  }
 ],
 "metadata": {
  "kernelspec": {
   "display_name": "timewarpforecast",
   "language": "python",
   "name": "timewarpforecast"
  },
  "language_info": {
   "codemirror_mode": {
    "name": "ipython",
    "version": 2
   },
   "file_extension": ".py",
   "mimetype": "text/x-python",
   "name": "python",
   "nbconvert_exporter": "python",
   "pygments_lexer": "ipython2",
   "version": "2.7.6"
  }
 },
 "nbformat": 4,
 "nbformat_minor": 5
}
